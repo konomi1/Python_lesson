{
  "cells": [
    {
      "cell_type": "markdown",
      "metadata": {
        "id": "view-in-github",
        "colab_type": "text"
      },
      "source": [
        "<a href=\"https://colab.research.google.com/github/konomi1/Python_lesson/blob/main/neural_network_editor.ipynb\" target=\"_parent\"><img src=\"https://colab.research.google.com/assets/colab-badge.svg\" alt=\"Open In Colab\"/></a>"
      ]
    },
    {
      "cell_type": "markdown",
      "metadata": {
        "id": "thNpqKGbnFQ6"
      },
      "source": [
        "# ニューラルネット実装"
      ]
    },
    {
      "cell_type": "markdown",
      "metadata": {
        "id": "YXOow0L5nFQ8"
      },
      "source": [
        "1. データの特徴について確認します。（13問）\n",
        "    - 各変数のデータ型、行列数、統計量を算出し、今回扱うデータの外観を把握します。\n",
        "2. データを加工する方法について学習します。（7問）\n",
        "    - 各変数をモデルに入れる形に整えます。（特徴量生成フェーズ）\n",
        "3. ニューラルネットワークのモデリング方法について学習します。（19問）\n",
        "    - ディープラーニングのモデリングと精度を上げるときのポイントについて学習します。\n",
        "4. CNNについて学習します。（17問）\n",
        "    - 画像データに対して相性の良いCNNモデルについて学習します。\n",
        "5. RNNについて学習します。（15問）\n",
        "    - 時系列、テキストデータ等に対して相性の良いRNNモデルについて学習します。"
      ]
    },
    {
      "cell_type": "markdown",
      "metadata": {
        "id": "x1wZqog4nFQ9"
      },
      "source": [
        "### 0. 事前準備"
      ]
    },
    {
      "cell_type": "markdown",
      "metadata": {
        "id": "0i9ozy54nFQ9"
      },
      "source": [
        "#### 0.1  必要なライブラリを読み込んで下さい。"
      ]
    },
    {
      "cell_type": "code",
      "execution_count": 1,
      "metadata": {
        "id": "9foOH_ifnFQ9"
      },
      "outputs": [],
      "source": [
        "import pandas as pd\n",
        "import numpy as np\n",
        "import matplotlib.pyplot as plt\n",
        "import warnings\n",
        "\n",
        "# 目的変数の加工処理で必要なライブラリ\n",
        "from keras.utils.np_utils import to_categorical\n",
        "\n",
        "# Jupyter 上で図を表示するためのコマンド\n",
        "%matplotlib inline\n",
        "\n",
        "# warningを表示させない\n",
        "warnings.simplefilter('ignore')"
      ]
    },
    {
      "cell_type": "markdown",
      "metadata": {
        "id": "1v_d1CbInFQ-"
      },
      "source": [
        "#### 0.2 minstを読み込んで、学習データ（説明変数）、学習データ（目的変数）、検証データ（説明変数）、検証データ（目的変数）にデータを格納してください。"
      ]
    },
    {
      "cell_type": "code",
      "execution_count": 2,
      "metadata": {
        "scrolled": true,
        "colab": {
          "base_uri": "https://localhost:8080/"
        },
        "id": "yXrtN7E1nFQ_",
        "outputId": "de21e38f-09dd-4c53-fd1c-fdb6a19add21"
      },
      "outputs": [
        {
          "output_type": "stream",
          "name": "stdout",
          "text": [
            "Downloading data from https://storage.googleapis.com/tensorflow/tf-keras-datasets/mnist.npz\n",
            "11493376/11490434 [==============================] - 0s 0us/step\n",
            "11501568/11490434 [==============================] - 0s 0us/step\n"
          ]
        }
      ],
      "source": [
        "from keras.datasets import mnist\n",
        "(X_train, y_train), (X_test, y_test) = mnist.load_data()"
      ]
    },
    {
      "cell_type": "markdown",
      "metadata": {
        "id": "GXIZw4DWnFQ_"
      },
      "source": [
        "### 1.データの特徴について確認します。"
      ]
    },
    {
      "cell_type": "markdown",
      "metadata": {
        "id": "Aw65hpZGnFRA"
      },
      "source": [
        "#### 1.1説明変数の学習データ（X_train）の レコード数を確認してください。"
      ]
    },
    {
      "cell_type": "code",
      "execution_count": 3,
      "metadata": {
        "colab": {
          "base_uri": "https://localhost:8080/"
        },
        "id": "vvGQqL2GnFRA",
        "outputId": "64ad12ae-6973-48da-f674-04de77f40e83"
      },
      "outputs": [
        {
          "output_type": "execute_result",
          "data": {
            "text/plain": [
              "60000"
            ]
          },
          "metadata": {},
          "execution_count": 3
        }
      ],
      "source": [
        "len(X_train)"
      ]
    },
    {
      "cell_type": "markdown",
      "metadata": {
        "id": "YiFPFbmQnFRA"
      },
      "source": [
        "#### 1.2 目的変数の学習データ（y_train）レコード数を確認してください。"
      ]
    },
    {
      "cell_type": "code",
      "execution_count": 4,
      "metadata": {
        "colab": {
          "base_uri": "https://localhost:8080/"
        },
        "id": "8qsyHgC2nFRB",
        "outputId": "911b6651-370f-487e-ff34-03a750c82cfa"
      },
      "outputs": [
        {
          "output_type": "execute_result",
          "data": {
            "text/plain": [
              "60000"
            ]
          },
          "metadata": {},
          "execution_count": 4
        }
      ],
      "source": [
        "len(y_train)"
      ]
    },
    {
      "cell_type": "markdown",
      "metadata": {
        "id": "GPW4s2ocnFRB"
      },
      "source": [
        "#### 1.3（X_train）の行列数（各次元の要素数）を確認してください。"
      ]
    },
    {
      "cell_type": "code",
      "execution_count": 5,
      "metadata": {
        "colab": {
          "base_uri": "https://localhost:8080/"
        },
        "id": "wvRDz6xTnFRB",
        "outputId": "554e51ee-700c-404f-8699-dede882a7627"
      },
      "outputs": [
        {
          "output_type": "execute_result",
          "data": {
            "text/plain": [
              "(60000, 28, 28)"
            ]
          },
          "metadata": {},
          "execution_count": 5
        }
      ],
      "source": [
        "X_train.shape"
      ]
    },
    {
      "cell_type": "markdown",
      "metadata": {
        "id": "DBtpGwOPnFRB"
      },
      "source": [
        "#### 1.4 今回の学習データは3次元の性質を持っているようです。今度は正解データの性質を確認してみましょう。（y_train）の行列数を確認してください。"
      ]
    },
    {
      "cell_type": "code",
      "execution_count": 6,
      "metadata": {
        "colab": {
          "base_uri": "https://localhost:8080/"
        },
        "id": "XPs3ktalnFRB",
        "outputId": "c1dab609-dcb1-4ba8-b9d2-f7617a2d2906"
      },
      "outputs": [
        {
          "output_type": "execute_result",
          "data": {
            "text/plain": [
              "(60000,)"
            ]
          },
          "metadata": {},
          "execution_count": 6
        }
      ],
      "source": [
        "y_train.shape"
      ]
    },
    {
      "cell_type": "markdown",
      "metadata": {
        "id": "bR6dAcRZnFRB"
      },
      "source": [
        "#### 1.5 正解データは1次元です。X_trainの1番目（indexは0）のデータの中身を確認してみましょう。"
      ]
    },
    {
      "cell_type": "code",
      "execution_count": 7,
      "metadata": {
        "colab": {
          "base_uri": "https://localhost:8080/"
        },
        "id": "-SSHeaiQnFRC",
        "outputId": "9ceaabb4-2318-4f3f-d456-8b670e2f2294"
      },
      "outputs": [
        {
          "output_type": "execute_result",
          "data": {
            "text/plain": [
              "array([[  0,   0,   0,   0,   0,   0,   0,   0,   0,   0,   0,   0,   0,\n",
              "          0,   0,   0,   0,   0,   0,   0,   0,   0,   0,   0,   0,   0,\n",
              "          0,   0],\n",
              "       [  0,   0,   0,   0,   0,   0,   0,   0,   0,   0,   0,   0,   0,\n",
              "          0,   0,   0,   0,   0,   0,   0,   0,   0,   0,   0,   0,   0,\n",
              "          0,   0],\n",
              "       [  0,   0,   0,   0,   0,   0,   0,   0,   0,   0,   0,   0,   0,\n",
              "          0,   0,   0,   0,   0,   0,   0,   0,   0,   0,   0,   0,   0,\n",
              "          0,   0],\n",
              "       [  0,   0,   0,   0,   0,   0,   0,   0,   0,   0,   0,   0,   0,\n",
              "          0,   0,   0,   0,   0,   0,   0,   0,   0,   0,   0,   0,   0,\n",
              "          0,   0],\n",
              "       [  0,   0,   0,   0,   0,   0,   0,   0,   0,   0,   0,   0,   0,\n",
              "          0,   0,   0,   0,   0,   0,   0,   0,   0,   0,   0,   0,   0,\n",
              "          0,   0],\n",
              "       [  0,   0,   0,   0,   0,   0,   0,   0,   0,   0,   0,   0,   3,\n",
              "         18,  18,  18, 126, 136, 175,  26, 166, 255, 247, 127,   0,   0,\n",
              "          0,   0],\n",
              "       [  0,   0,   0,   0,   0,   0,   0,   0,  30,  36,  94, 154, 170,\n",
              "        253, 253, 253, 253, 253, 225, 172, 253, 242, 195,  64,   0,   0,\n",
              "          0,   0],\n",
              "       [  0,   0,   0,   0,   0,   0,   0,  49, 238, 253, 253, 253, 253,\n",
              "        253, 253, 253, 253, 251,  93,  82,  82,  56,  39,   0,   0,   0,\n",
              "          0,   0],\n",
              "       [  0,   0,   0,   0,   0,   0,   0,  18, 219, 253, 253, 253, 253,\n",
              "        253, 198, 182, 247, 241,   0,   0,   0,   0,   0,   0,   0,   0,\n",
              "          0,   0],\n",
              "       [  0,   0,   0,   0,   0,   0,   0,   0,  80, 156, 107, 253, 253,\n",
              "        205,  11,   0,  43, 154,   0,   0,   0,   0,   0,   0,   0,   0,\n",
              "          0,   0],\n",
              "       [  0,   0,   0,   0,   0,   0,   0,   0,   0,  14,   1, 154, 253,\n",
              "         90,   0,   0,   0,   0,   0,   0,   0,   0,   0,   0,   0,   0,\n",
              "          0,   0],\n",
              "       [  0,   0,   0,   0,   0,   0,   0,   0,   0,   0,   0, 139, 253,\n",
              "        190,   2,   0,   0,   0,   0,   0,   0,   0,   0,   0,   0,   0,\n",
              "          0,   0],\n",
              "       [  0,   0,   0,   0,   0,   0,   0,   0,   0,   0,   0,  11, 190,\n",
              "        253,  70,   0,   0,   0,   0,   0,   0,   0,   0,   0,   0,   0,\n",
              "          0,   0],\n",
              "       [  0,   0,   0,   0,   0,   0,   0,   0,   0,   0,   0,   0,  35,\n",
              "        241, 225, 160, 108,   1,   0,   0,   0,   0,   0,   0,   0,   0,\n",
              "          0,   0],\n",
              "       [  0,   0,   0,   0,   0,   0,   0,   0,   0,   0,   0,   0,   0,\n",
              "         81, 240, 253, 253, 119,  25,   0,   0,   0,   0,   0,   0,   0,\n",
              "          0,   0],\n",
              "       [  0,   0,   0,   0,   0,   0,   0,   0,   0,   0,   0,   0,   0,\n",
              "          0,  45, 186, 253, 253, 150,  27,   0,   0,   0,   0,   0,   0,\n",
              "          0,   0],\n",
              "       [  0,   0,   0,   0,   0,   0,   0,   0,   0,   0,   0,   0,   0,\n",
              "          0,   0,  16,  93, 252, 253, 187,   0,   0,   0,   0,   0,   0,\n",
              "          0,   0],\n",
              "       [  0,   0,   0,   0,   0,   0,   0,   0,   0,   0,   0,   0,   0,\n",
              "          0,   0,   0,   0, 249, 253, 249,  64,   0,   0,   0,   0,   0,\n",
              "          0,   0],\n",
              "       [  0,   0,   0,   0,   0,   0,   0,   0,   0,   0,   0,   0,   0,\n",
              "          0,  46, 130, 183, 253, 253, 207,   2,   0,   0,   0,   0,   0,\n",
              "          0,   0],\n",
              "       [  0,   0,   0,   0,   0,   0,   0,   0,   0,   0,   0,   0,  39,\n",
              "        148, 229, 253, 253, 253, 250, 182,   0,   0,   0,   0,   0,   0,\n",
              "          0,   0],\n",
              "       [  0,   0,   0,   0,   0,   0,   0,   0,   0,   0,  24, 114, 221,\n",
              "        253, 253, 253, 253, 201,  78,   0,   0,   0,   0,   0,   0,   0,\n",
              "          0,   0],\n",
              "       [  0,   0,   0,   0,   0,   0,   0,   0,  23,  66, 213, 253, 253,\n",
              "        253, 253, 198,  81,   2,   0,   0,   0,   0,   0,   0,   0,   0,\n",
              "          0,   0],\n",
              "       [  0,   0,   0,   0,   0,   0,  18, 171, 219, 253, 253, 253, 253,\n",
              "        195,  80,   9,   0,   0,   0,   0,   0,   0,   0,   0,   0,   0,\n",
              "          0,   0],\n",
              "       [  0,   0,   0,   0,  55, 172, 226, 253, 253, 253, 253, 244, 133,\n",
              "         11,   0,   0,   0,   0,   0,   0,   0,   0,   0,   0,   0,   0,\n",
              "          0,   0],\n",
              "       [  0,   0,   0,   0, 136, 253, 253, 253, 212, 135, 132,  16,   0,\n",
              "          0,   0,   0,   0,   0,   0,   0,   0,   0,   0,   0,   0,   0,\n",
              "          0,   0],\n",
              "       [  0,   0,   0,   0,   0,   0,   0,   0,   0,   0,   0,   0,   0,\n",
              "          0,   0,   0,   0,   0,   0,   0,   0,   0,   0,   0,   0,   0,\n",
              "          0,   0],\n",
              "       [  0,   0,   0,   0,   0,   0,   0,   0,   0,   0,   0,   0,   0,\n",
              "          0,   0,   0,   0,   0,   0,   0,   0,   0,   0,   0,   0,   0,\n",
              "          0,   0],\n",
              "       [  0,   0,   0,   0,   0,   0,   0,   0,   0,   0,   0,   0,   0,\n",
              "          0,   0,   0,   0,   0,   0,   0,   0,   0,   0,   0,   0,   0,\n",
              "          0,   0]], dtype=uint8)"
            ]
          },
          "metadata": {},
          "execution_count": 7
        }
      ],
      "source": [
        "X_train[0]"
      ]
    },
    {
      "cell_type": "markdown",
      "metadata": {
        "id": "u7lKyBDznFRC"
      },
      "source": [
        "#### 1.6 同様にy_trainのデータの中身を確認してみましょう。"
      ]
    },
    {
      "cell_type": "code",
      "execution_count": 8,
      "metadata": {
        "colab": {
          "base_uri": "https://localhost:8080/"
        },
        "id": "PMxCl_-tnFRC",
        "outputId": "3f35c195-0171-4d21-b48f-64141989e068"
      },
      "outputs": [
        {
          "output_type": "execute_result",
          "data": {
            "text/plain": [
              "array([5, 0, 4, ..., 5, 6, 8], dtype=uint8)"
            ]
          },
          "metadata": {},
          "execution_count": 8
        }
      ],
      "source": [
        "y_train"
      ]
    },
    {
      "cell_type": "markdown",
      "metadata": {
        "id": "ZVB8NpoDnFRC"
      },
      "source": [
        "#### 1.7 y_trainの要素の集計を行いましょう。"
      ]
    },
    {
      "cell_type": "code",
      "execution_count": 9,
      "metadata": {
        "id": "7_CUl1SknFRC"
      },
      "outputs": [],
      "source": [
        "# #value_countsのためSeriesに変換 \n",
        "# data = pd.Series(y_train)\n",
        "# data.value_counts()."
      ]
    },
    {
      "cell_type": "code",
      "source": [
        "pd.Series(y_train).value_counts().sort_index()"
      ],
      "metadata": {
        "colab": {
          "base_uri": "https://localhost:8080/"
        },
        "id": "oS6gx_zWzlm3",
        "outputId": "e6d3c452-7049-4be7-92c8-ac970fad4da4"
      },
      "execution_count": 10,
      "outputs": [
        {
          "output_type": "execute_result",
          "data": {
            "text/plain": [
              "0    5923\n",
              "1    6742\n",
              "2    5958\n",
              "3    6131\n",
              "4    5842\n",
              "5    5421\n",
              "6    5918\n",
              "7    6265\n",
              "8    5851\n",
              "9    5949\n",
              "dtype: int64"
            ]
          },
          "metadata": {},
          "execution_count": 10
        }
      ]
    },
    {
      "cell_type": "markdown",
      "source": [
        ""
      ],
      "metadata": {
        "id": "xPteFRlJzlT0"
      }
    },
    {
      "cell_type": "markdown",
      "metadata": {
        "id": "Y95bf2MAnFRC"
      },
      "source": [
        "#### 1.8 目的変数は0～9までの数字が割り当てられているようです。説明変数と目的変数それぞれの学習データ、検証データの次元数を確認してみましょう。"
      ]
    },
    {
      "cell_type": "code",
      "execution_count": 11,
      "metadata": {
        "colab": {
          "base_uri": "https://localhost:8080/"
        },
        "id": "XL0_Z5ZInFRC",
        "outputId": "c39cda0a-6847-4932-c17f-06ccc131ad4b"
      },
      "outputs": [
        {
          "output_type": "stream",
          "name": "stdout",
          "text": [
            "X_train: (60000, 28, 28)\n",
            "y_train: (60000,)\n",
            "X_test: (10000, 28, 28)\n",
            "y_test: (10000,)\n"
          ]
        }
      ],
      "source": [
        "print('X_train:', X_train.shape)\n",
        "print('y_train:', y_train.shape)\n",
        "print('X_test:', X_test.shape)\n",
        "print('y_test:', y_test.shape)"
      ]
    },
    {
      "cell_type": "markdown",
      "metadata": {
        "id": "XDq3vKEAnFRC"
      },
      "source": [
        "#### 1.9 学習データは60000件、検証データは10000件、学習データの要素数は28×28、それに対して0～9の正解データが存在していることが分かりました。最初の学習データ（indexは0）を可視化してみましょう。※ヒント：「plt.imshow」を使用してください。"
      ]
    },
    {
      "cell_type": "code",
      "execution_count": 12,
      "metadata": {
        "id": "Vk08RFrqnFRC"
      },
      "outputs": [],
      "source": [
        "# # カラーマップの色を指定\n",
        "# plt.imshow(X_train[0], cmap='binary')"
      ]
    },
    {
      "cell_type": "code",
      "source": [
        "digit = X_train[0]\n",
        "plt.imshow(digit,cmap=plt.cm.binary)\n",
        "plt.show()"
      ],
      "metadata": {
        "colab": {
          "base_uri": "https://localhost:8080/",
          "height": 0
        },
        "id": "GGhgoHp84A-7",
        "outputId": "5e3c9129-06b8-4104-d54c-7b3ab1c82e39"
      },
      "execution_count": 13,
      "outputs": [
        {
          "output_type": "display_data",
          "data": {
            "image/png": "[encoded data removed]",
            "text/plain": [
              "<Figure size 432x288 with 1 Axes>"
            ]
          },
          "metadata": {
            "needs_background": "light"
          }
        }
      ]
    },
    {
      "cell_type": "markdown",
      "metadata": {
        "id": "yClo2GeTnFRC"
      },
      "source": [
        "#### 1.10 色の濃さはどのように表現されているのでしょうか。最初の学習データ（0番目）の最初の要素（0番目）を出力してください。"
      ]
    },
    {
      "cell_type": "code",
      "execution_count": 14,
      "metadata": {
        "id": "2j4CjHALnFRC"
      },
      "outputs": [],
      "source": [
        "# X_train[0,0]"
      ]
    },
    {
      "cell_type": "code",
      "source": [
        "X_train[0][0]"
      ],
      "metadata": {
        "colab": {
          "base_uri": "https://localhost:8080/"
        },
        "id": "XFMPXT5X5V87",
        "outputId": "d8ab825c-740d-4208-a8f3-c5346892da84"
      },
      "execution_count": 15,
      "outputs": [
        {
          "output_type": "execute_result",
          "data": {
            "text/plain": [
              "array([0, 0, 0, 0, 0, 0, 0, 0, 0, 0, 0, 0, 0, 0, 0, 0, 0, 0, 0, 0, 0, 0,\n",
              "       0, 0, 0, 0, 0, 0], dtype=uint8)"
            ]
          },
          "metadata": {},
          "execution_count": 15
        }
      ]
    },
    {
      "cell_type": "markdown",
      "metadata": {
        "id": "5nth95V1nFRD"
      },
      "source": [
        "#### 1.11 最初の学習データ（indexは0）の6番目の要素（indexは5）を出力してください。※画像と数字を比較して見てください。"
      ]
    },
    {
      "cell_type": "code",
      "execution_count": 16,
      "metadata": {
        "colab": {
          "base_uri": "https://localhost:8080/"
        },
        "id": "W86-jI6tnFRD",
        "outputId": "3c655937-1a58-470f-a275-069bed61eeb0"
      },
      "outputs": [
        {
          "output_type": "execute_result",
          "data": {
            "text/plain": [
              "array([  0,   0,   0,   0,   0,   0,   0,   0,   0,   0,   0,   0,   3,\n",
              "        18,  18,  18, 126, 136, 175,  26, 166, 255, 247, 127,   0,   0,\n",
              "         0,   0], dtype=uint8)"
            ]
          },
          "metadata": {},
          "execution_count": 16
        }
      ],
      "source": [
        "X_train[0][5]"
      ]
    },
    {
      "cell_type": "markdown",
      "metadata": {
        "id": "CeYJQjmGnFRD"
      },
      "source": [
        "#### 1.12 最初の学習データ（indexは0）を転置させて、6番目の要素（indexは5）を出力してください。※画像と数字を比較して見てください。"
      ]
    },
    {
      "cell_type": "code",
      "execution_count": 17,
      "metadata": {
        "colab": {
          "base_uri": "https://localhost:8080/"
        },
        "id": "bySNEE3anFRD",
        "outputId": "a6ae0766-01b7-4499-e58a-56ea67705c22"
      },
      "outputs": [
        {
          "output_type": "execute_result",
          "data": {
            "text/plain": [
              "array([  0,   0,   0,   0,   0,   0,   0,   0,   0,   0,   0,   0,   0,\n",
              "         0,   0,   0,   0,   0,   0,   0,   0,   0,   0, 172, 253,   0,\n",
              "         0,   0], dtype=uint8)"
            ]
          },
          "metadata": {},
          "execution_count": 17
        }
      ],
      "source": [
        "# 最初の学習データ\n",
        "X_train[0].T[5]"
      ]
    },
    {
      "cell_type": "markdown",
      "metadata": {
        "id": "IrUNvCeRnFRD"
      },
      "source": [
        "#### 1.13 学習データの構成は（60000,28,28）＝（枚数,横座標,縦座標）を表しており、数字が小さいと「白」、大きいと「黒」を表現しているようです。最後にtrain_xの最大値、最小値を確認してみましょう。"
      ]
    },
    {
      "cell_type": "code",
      "execution_count": 18,
      "metadata": {
        "colab": {
          "base_uri": "https://localhost:8080/"
        },
        "id": "n3LciWIInFRD",
        "outputId": "c0d3320c-a9e3-4110-ae54-925cf7f93fc6"
      },
      "outputs": [
        {
          "output_type": "stream",
          "name": "stdout",
          "text": [
            "255\n",
            "0\n"
          ]
        }
      ],
      "source": [
        "print(X_train.max())\n",
        "print(X_train.min())"
      ]
    },
    {
      "cell_type": "markdown",
      "metadata": {
        "id": "v8S03N0UnFRD"
      },
      "source": [
        "### 2.データの加工方法について学習します。"
      ]
    },
    {
      "cell_type": "markdown",
      "metadata": {
        "id": "JHGHLh4znFRD"
      },
      "source": [
        "#### 2.1 kerasに入れる形にデータを整えていきましょう。まず、28×28の画像データ（X_train,X_test）を全て（60000枚）1次元化してください。"
      ]
    },
    {
      "cell_type": "code",
      "execution_count": 19,
      "metadata": {
        "id": "1hZVpe-8nFRD"
      },
      "outputs": [],
      "source": [
        "# X_train = X_train.reshape(60000,784)\n",
        "# X_test = X_test.reshape(10000,784)"
      ]
    },
    {
      "cell_type": "code",
      "source": [
        "# 画像を1次元化\n",
        "X_train = X_train.reshape(60000, 784)\n",
        "X_test = X_test.reshape(10000, 784)\n",
        "print(\"X_train:\",X_train.shape)\n",
        "print(\"X_test:\",X_test.shape)"
      ],
      "metadata": {
        "colab": {
          "base_uri": "https://localhost:8080/"
        },
        "id": "QyKMTerUr2rQ",
        "outputId": "2a781139-1ad5-43f0-f07b-8d8b342c4d01"
      },
      "execution_count": 20,
      "outputs": [
        {
          "output_type": "stream",
          "name": "stdout",
          "text": [
            "X_train: (60000, 784)\n",
            "X_test: (10000, 784)\n"
          ]
        }
      ]
    },
    {
      "cell_type": "markdown",
      "metadata": {
        "id": "fwQ1pmxunFRD"
      },
      "source": [
        "#### 2.2 ディープラーニングは正規化処理を施した方が適切な結果が出ることが多いです。28×28の画像データ（X_train,X_test）の最大値が1になるように正規化してください。"
      ]
    },
    {
      "cell_type": "code",
      "execution_count": 21,
      "metadata": {
        "id": "-nseCTm7nFRD"
      },
      "outputs": [],
      "source": [
        "# x’= x-最小値(x) / 最大値(x)-最小値(x) ：正規化\n",
        "# X_train = X_train - 0 / 255 - 0\n",
        "# print('X_train_max:', X_train.max())\n",
        "\n",
        "# dtypeがuint8のため、不正解になる"
      ]
    },
    {
      "cell_type": "code",
      "source": [
        "# 画素を0~1の範囲に変換(正規化)\n",
        "# dtypeをfloatに変換する\n",
        "X_train = X_train.astype('float32') / 255\n",
        "X_test = X_test.astype('float32') / 255\n",
        "print(\"X_train_max:\",X_train.max())\n",
        "print(\"X_test_min:\",X_test.min())"
      ],
      "metadata": {
        "colab": {
          "base_uri": "https://localhost:8080/"
        },
        "id": "VL_CuDloxzHv",
        "outputId": "075dd348-37b6-4f23-9667-d2c7e426bf3d"
      },
      "execution_count": 22,
      "outputs": [
        {
          "output_type": "stream",
          "name": "stdout",
          "text": [
            "X_train_max: 1.0\n",
            "X_test_min: 0.0\n"
          ]
        }
      ]
    },
    {
      "cell_type": "markdown",
      "metadata": {
        "id": "_zb2qN32nFRE"
      },
      "source": [
        "#### 2.3 目的変数の形を「0」、「1」だけで表す必要があります。整数値を2値クラスの配列に変換した上で、y_trainを上から5行表示してください。※ワンホットエンコーディング処理といいます。"
      ]
    },
    {
      "cell_type": "code",
      "execution_count": 23,
      "metadata": {
        "id": "wdNmrojcnFRE"
      },
      "outputs": [],
      "source": [
        "# y_train = pd.get_dummies(y_train)\n",
        "# y_train.to_numpy\n",
        "# y_train[:5]\n",
        "# # dataframeが返ってくるため不正解"
      ]
    },
    {
      "cell_type": "code",
      "source": [
        "# 正解ラベルをone-hot-encoding\n",
        "y_train = to_categorical(y_train, 10)\n",
        "y_test = to_categorical(y_test, 10)\n",
        "y_train[:5]"
      ],
      "metadata": {
        "colab": {
          "base_uri": "https://localhost:8080/"
        },
        "id": "wX5ekk-p4zZN",
        "outputId": "7b0333af-b599-46c8-a439-e77a76acec79"
      },
      "execution_count": 24,
      "outputs": [
        {
          "output_type": "execute_result",
          "data": {
            "text/plain": [
              "array([[0., 0., 0., 0., 0., 1., 0., 0., 0., 0.],\n",
              "       [1., 0., 0., 0., 0., 0., 0., 0., 0., 0.],\n",
              "       [0., 0., 0., 0., 1., 0., 0., 0., 0., 0.],\n",
              "       [0., 1., 0., 0., 0., 0., 0., 0., 0., 0.],\n",
              "       [0., 0., 0., 0., 0., 0., 0., 0., 0., 1.]], dtype=float32)"
            ]
          },
          "metadata": {},
          "execution_count": 24
        }
      ]
    },
    {
      "cell_type": "markdown",
      "metadata": {
        "id": "VOAvcWkmnFRE"
      },
      "source": [
        "#### 2.4 説明変数と目的変数の形式は整いました。それでは各ノードにおける「入力」と「出力」のイメージを理解していきましょう。下記の様な「2×3」の行列を作成して、「w」と言う変数に格納して下さい。同様に「3×1」の行列を作成し、「x」という変数に格納して下さい。"
      ]
    },
    {
      "cell_type": "code",
      "execution_count": 25,
      "metadata": {
        "id": "MYZWQVLknFRE"
      },
      "outputs": [],
      "source": [
        "# w = np.arange(1,7).reshape(2,3)\n",
        "# x = np.array([[1],[-2],[-3]])\n",
        "# print('w:',w)\n",
        "# print('x:',x)"
      ]
    },
    {
      "cell_type": "code",
      "source": [
        "w = np.array([[1,2,3],[4,5,6]])\n",
        "x = np.array([[1],[-2],[-3]])\n",
        "print(\"----w----\")\n",
        "print(w)\n",
        "print(\"----x----\")\n",
        "print(x)"
      ],
      "metadata": {
        "colab": {
          "base_uri": "https://localhost:8080/"
        },
        "id": "LLeCy3Ai956r",
        "outputId": "df90a976-7caa-4f6b-a819-5c18e51c9ae6"
      },
      "execution_count": 26,
      "outputs": [
        {
          "output_type": "stream",
          "name": "stdout",
          "text": [
            "----w----\n",
            "[[1 2 3]\n",
            " [4 5 6]]\n",
            "----x----\n",
            "[[ 1]\n",
            " [-2]\n",
            " [-3]]\n"
          ]
        }
      ]
    },
    {
      "cell_type": "markdown",
      "metadata": {
        "id": "LNeNSaFEnFRE"
      },
      "source": [
        "#### 2.5 「3個のデータ」である「x」に重み「w」をかけ合わせて「2個のデータ」を出力してみましょう。※行列演算を行います。ニューラルネットワークはデータに重みをかけ合わせて新たな数値を出力し、その数値を活性化関数で変換して出てきた値を次の層の入力とすることの繰り返しです。"
      ]
    },
    {
      "cell_type": "code",
      "execution_count": 27,
      "metadata": {
        "colab": {
          "base_uri": "https://localhost:8080/"
        },
        "id": "jdU5KHVznFRE",
        "outputId": "4525fc42-493f-4caa-f8f0-38a7b03260f6"
      },
      "outputs": [
        {
          "output_type": "execute_result",
          "data": {
            "text/plain": [
              "array([[-12],\n",
              "       [-24]])"
            ]
          },
          "metadata": {},
          "execution_count": 27
        }
      ],
      "source": [
        "np.dot(w,x)"
      ]
    },
    {
      "cell_type": "markdown",
      "metadata": {
        "id": "CUIDPDmjnFRE"
      },
      "source": [
        "#### 2.6 活性化関数のイメージを掴んでいきましょう。「2.5」で算出した行列に、活性化関数の一種である「シグモイド関数」をかけて値を算出して下さい。※値が0～1の間に収まる関数です。kerasでは引数で設定することができます。"
      ]
    },
    {
      "cell_type": "code",
      "execution_count": 28,
      "metadata": {
        "id": "1LZoJTeFnFRE"
      },
      "outputs": [],
      "source": [
        "# data = np.dot(w,x)\n",
        "# data = 1 / (1+data?)\n",
        "# 1 / (1+np.exp(-data))？"
      ]
    },
    {
      "cell_type": "code",
      "source": [
        "z = np.dot(w,x)\n",
        "1 / (1 + np.exp(-z))"
      ],
      "metadata": {
        "colab": {
          "base_uri": "https://localhost:8080/"
        },
        "id": "EeiGKWoV_0Vm",
        "outputId": "504d7a35-56e9-4c2b-e70d-201cc7c2a69e"
      },
      "execution_count": 29,
      "outputs": [
        {
          "output_type": "execute_result",
          "data": {
            "text/plain": [
              "array([[6.14417460e-06],\n",
              "       [3.77513454e-11]])"
            ]
          },
          "metadata": {},
          "execution_count": 29
        }
      ]
    },
    {
      "cell_type": "markdown",
      "metadata": {
        "id": "Z9ZbcvBenFRE"
      },
      "source": [
        "#### 2.7 活性化関数のイメージを掴んでいきましょう。「2.5」で算出した行列に、活性化関数の一種である「relu」をかけて値を算出して下さい。※正の値はそのまま、負の値は「0」に変換する関数です。kerasでは引数で設定することができます。"
      ]
    },
    {
      "cell_type": "code",
      "execution_count": 30,
      "metadata": {
        "id": "7ug6JKJenFRE"
      },
      "outputs": [],
      "source": [
        "# z = np.dot(w,x)\n",
        "# # relu関数\n",
        "# np.maximum(0, z)"
      ]
    },
    {
      "cell_type": "code",
      "source": [
        "z = np.dot(w,x)\n",
        "np.maximum(0, z)"
      ],
      "metadata": {
        "colab": {
          "base_uri": "https://localhost:8080/"
        },
        "id": "qXpuyMpFimVa",
        "outputId": "d64afa5c-45b5-441f-a8eb-5687689f510e"
      },
      "execution_count": 31,
      "outputs": [
        {
          "output_type": "execute_result",
          "data": {
            "text/plain": [
              "array([[0],\n",
              "       [0]])"
            ]
          },
          "metadata": {},
          "execution_count": 31
        }
      ]
    },
    {
      "cell_type": "markdown",
      "metadata": {
        "id": "5mzEE9RKnFRE"
      },
      "source": [
        "### 3.ニューラルネットワークのモデリング方法について学習します。※layerの名前、精度結果が一致している必要は無いです。また、モデリングの実行後、時間がかかる処理があります。"
      ]
    },
    {
      "cell_type": "markdown",
      "metadata": {
        "id": "ktoWBuBXnFRE"
      },
      "source": [
        "#### 3.1 Sequentialのクラスを読み込んでください。"
      ]
    },
    {
      "cell_type": "code",
      "execution_count": 32,
      "metadata": {
        "colab": {
          "base_uri": "https://localhost:8080/"
        },
        "id": "JaUMD4iUnFRE",
        "outputId": "4b2355b5-bd89-4eb7-d499-8edac0b5fbc8"
      },
      "outputs": [
        {
          "output_type": "stream",
          "name": "stdout",
          "text": [
            "<class 'keras.engine.sequential.Sequential'>\n"
          ]
        }
      ],
      "source": [
        "from keras.models import Sequential\n",
        "print(Sequential)"
      ]
    },
    {
      "cell_type": "markdown",
      "metadata": {
        "id": "M95Sla8xnFRE"
      },
      "source": [
        "#### 3.2 全結合レイヤーである「Dense」のクラスを読み込んで下さい。"
      ]
    },
    {
      "cell_type": "code",
      "execution_count": 33,
      "metadata": {
        "colab": {
          "base_uri": "https://localhost:8080/"
        },
        "id": "749sDzJVnFRF",
        "outputId": "d8d4a891-e900-426f-e746-9c605fabc2f7"
      },
      "outputs": [
        {
          "output_type": "stream",
          "name": "stdout",
          "text": [
            "<class 'keras.layers.core.dense.Dense'>\n"
          ]
        }
      ],
      "source": [
        "from keras.layers import Dense\n",
        "print(Dense)"
      ]
    },
    {
      "cell_type": "markdown",
      "metadata": {
        "id": "v64itaF5nFRF"
      },
      "source": [
        "#### 3.3 今回は「Sequentialモデル」を使用して、ニューラルネットワークを構築していきましょう。「784」件の入力を受け取り、「32」件の出力を返し、活性化関数が「シグモイド関数」の層を作成してください。※32件にしている理由は特にありません。"
      ]
    },
    {
      "cell_type": "code",
      "execution_count": 34,
      "metadata": {
        "id": "P1SWy9vxnFRF"
      },
      "outputs": [],
      "source": [
        "# # モデル（空のSequential）を作成\n",
        "# model = Sequential()\n",
        "# # レイヤーを追加\n",
        "# model.add(Dense(units=32, activation='sigmoid'))\n",
        "# model.summary()"
      ]
    },
    {
      "cell_type": "code",
      "source": [
        "model = Sequential()\n",
        "# 入力値\n",
        "image_size = 784\n",
        "model.add(Dense(32, activation='sigmoid', input_dim=image_size))\n",
        "model.summary()"
      ],
      "metadata": {
        "colab": {
          "base_uri": "https://localhost:8080/"
        },
        "id": "08c4OxrWpKQe",
        "outputId": "58149b61-ae84-48a3-eaba-33c60e7e341c"
      },
      "execution_count": 35,
      "outputs": [
        {
          "output_type": "stream",
          "name": "stdout",
          "text": [
            "Model: \"sequential\"\n",
            "_________________________________________________________________\n",
            " Layer (type)                Output Shape              Param #   \n",
            "=================================================================\n",
            " dense (Dense)               (None, 32)                25120     \n",
            "                                                                 \n",
            "=================================================================\n",
            "Total params: 25,120\n",
            "Trainable params: 25,120\n",
            "Non-trainable params: 0\n",
            "_________________________________________________________________\n"
          ]
        }
      ]
    },
    {
      "cell_type": "markdown",
      "metadata": {
        "id": "72EXd6CynFRF"
      },
      "source": [
        "#### 3.4 「10」件の出力を返す、活性化関数がソフトマックス関数の出力層を追加し、サマリーを出力して下さい。"
      ]
    },
    {
      "cell_type": "code",
      "execution_count": 36,
      "metadata": {
        "colab": {
          "base_uri": "https://localhost:8080/"
        },
        "id": "Y7ngt8bTnFRF",
        "outputId": "44006dac-b6b8-4767-c528-384dce6af557"
      },
      "outputs": [
        {
          "output_type": "stream",
          "name": "stdout",
          "text": [
            "Model: \"sequential\"\n",
            "_________________________________________________________________\n",
            " Layer (type)                Output Shape              Param #   \n",
            "=================================================================\n",
            " dense (Dense)               (None, 32)                25120     \n",
            "                                                                 \n",
            " dense_1 (Dense)             (None, 10)                330       \n",
            "                                                                 \n",
            "=================================================================\n",
            "Total params: 25,450\n",
            "Trainable params: 25,450\n",
            "Non-trainable params: 0\n",
            "_________________________________________________________________\n"
          ]
        }
      ],
      "source": [
        "model.add(Dense(10, activation='softmax'))\n",
        "model.summary()"
      ]
    },
    {
      "cell_type": "markdown",
      "metadata": {
        "id": "yCsH7sg6nFRF"
      },
      "source": [
        "#### 3.5 学習方法をcompile関数で設定しましょう。最適化関数を「確率的勾配降下法（Stochastic gradient descent）」を選択して下さい。誤差関数を「categorical_crossentropy」で設定し、metricsは「正解率」を設定してみましょう。※何を目的として重みを更新するかを決定している部分になります。※確率的勾配降下法は難しい概念なので、本コンテンツでは説明しません。詳しく知りたい方は調べてみて下さい。"
      ]
    },
    {
      "cell_type": "code",
      "execution_count": 37,
      "metadata": {
        "id": "FFtaY2lCnFRF"
      },
      "outputs": [],
      "source": [
        "# model.compile(optimizer='sgd',\n",
        "#               loss='categorical_crossentropy',\n",
        "#               metrics='accuracy')"
      ]
    },
    {
      "cell_type": "code",
      "source": [
        "model.compile(optimizer='sgd',\n",
        "              loss='categorical_crossentropy',\n",
        "              metrics=['accuracy'])"
      ],
      "metadata": {
        "id": "VwdduBeS1MMC"
      },
      "execution_count": 38,
      "outputs": []
    },
    {
      "cell_type": "markdown",
      "metadata": {
        "id": "VpsZglFOnFRF"
      },
      "source": [
        "#### 3.6 学習を実行しましょう。fit関数に学習データを当てはめて下さい。"
      ]
    },
    {
      "cell_type": "code",
      "execution_count": 39,
      "metadata": {
        "id": "V6_5oblnnFRF"
      },
      "outputs": [],
      "source": [
        "# data = model.fit(X_train, y_train)"
      ]
    },
    {
      "cell_type": "code",
      "source": [
        "history = model.fit(X_train, y_train)"
      ],
      "metadata": {
        "colab": {
          "base_uri": "https://localhost:8080/"
        },
        "id": "wKX7wrC02gI_",
        "outputId": "79294533-45ec-4a3b-c6df-7fbc56070d11"
      },
      "execution_count": 40,
      "outputs": [
        {
          "output_type": "stream",
          "name": "stdout",
          "text": [
            "1875/1875 [==============================] - 3s 2ms/step - loss: 1.5998 - accuracy: 0.6523\n"
          ]
        }
      ]
    },
    {
      "cell_type": "markdown",
      "metadata": {
        "id": "0GK0_PMHnFRF"
      },
      "source": [
        "#### 3.7 「3.6」の学習を、epochs「4」で設定して行って下さい。※epochsとは「一つの訓練データを何回繰り返して学習させるか」の数のことです。"
      ]
    },
    {
      "cell_type": "code",
      "execution_count": 41,
      "metadata": {
        "colab": {
          "base_uri": "https://localhost:8080/"
        },
        "id": "UkAzhSpunFRF",
        "outputId": "9c2de364-48dd-4a76-fb26-389054353ae1"
      },
      "outputs": [
        {
          "output_type": "stream",
          "name": "stdout",
          "text": [
            "Epoch 1/4\n",
            "1875/1875 [==============================] - 3s 2ms/step - loss: 0.8662 - accuracy: 0.8322\n",
            "Epoch 2/4\n",
            "1875/1875 [==============================] - 3s 2ms/step - loss: 0.6227 - accuracy: 0.8634\n",
            "Epoch 3/4\n",
            "1875/1875 [==============================] - 3s 1ms/step - loss: 0.5151 - accuracy: 0.8774\n",
            "Epoch 4/4\n",
            "1875/1875 [==============================] - 3s 2ms/step - loss: 0.4554 - accuracy: 0.8860\n"
          ]
        }
      ],
      "source": [
        "history = model.fit(X_train, y_train, epochs=4)"
      ]
    },
    {
      "cell_type": "markdown",
      "metadata": {
        "id": "MQKEjibUnFRF"
      },
      "source": [
        "#### 3.8 学習を繰り返せば、精度が向上することが確認できます。「3.7」の学習を、batch_size=「100」で設定して行って下さい。※batchとは、訓練データをいくつかのかたまりに分割したものを指します。batch_sizeとはそのかたまりのサイズを指します。"
      ]
    },
    {
      "cell_type": "code",
      "execution_count": 42,
      "metadata": {
        "colab": {
          "base_uri": "https://localhost:8080/"
        },
        "id": "zdKKVtpQnFRF",
        "outputId": "8cc7dbe6-4637-4551-a954-c8163cad5304"
      },
      "outputs": [
        {
          "output_type": "stream",
          "name": "stdout",
          "text": [
            "Epoch 1/4\n",
            "600/600 [==============================] - 2s 3ms/step - loss: 0.4275 - accuracy: 0.8905\n",
            "Epoch 2/4\n",
            "600/600 [==============================] - 2s 3ms/step - loss: 0.4169 - accuracy: 0.8923\n",
            "Epoch 3/4\n",
            "600/600 [==============================] - 2s 3ms/step - loss: 0.4073 - accuracy: 0.8934\n",
            "Epoch 4/4\n",
            "600/600 [==============================] - 2s 3ms/step - loss: 0.3987 - accuracy: 0.8950\n"
          ]
        }
      ],
      "source": [
        "history = model.fit(X_train, y_train,epochs=4, batch_size=100)"
      ]
    },
    {
      "cell_type": "markdown",
      "metadata": {
        "id": "Scuq0JmFnFRF"
      },
      "source": [
        "#### 3.9 学習速度が早くなっていることが確認できます。ディープラーニングは学習時間が非常にかかるので、データによっては速度を意識する必要があることを覚えておきましょう。学習データに対する結果を確認し、x軸に「epoch」、y軸に「accuracy」のグラフを作成して下さい。"
      ]
    },
    {
      "cell_type": "code",
      "execution_count": 43,
      "metadata": {
        "id": "2NU4wFGnnFRF"
      },
      "outputs": [],
      "source": [
        "# plt.plot(history.history['accuracy'])\n",
        "# plt.title('model accuracy')\n",
        "# plt.ylabel('accuracy')\n",
        "# plt.xlabel('epoch')\n",
        "# plt.legend('accuracy')\n",
        "# plt.show()"
      ]
    },
    {
      "cell_type": "code",
      "source": [
        "plt.plot(history.history['accuracy'])\n",
        "plt.title('model accuracy')\n",
        "plt.ylabel('accuracy')\n",
        "plt.xlabel('epoch')\n",
        "plt.legend(['accuracy'])\n",
        "plt.show()"
      ],
      "metadata": {
        "colab": {
          "base_uri": "https://localhost:8080/",
          "height": 294
        },
        "id": "NZiNg0NcA7fm",
        "outputId": "8f96d4ba-fe1a-46fc-a113-c86ddc338616"
      },
      "execution_count": 44,
      "outputs": [
        {
          "output_type": "display_data",
          "data": {
            "image/png": "[encoded data removed]",
            "text/plain": [
              "<Figure size 432x288 with 1 Axes>"
            ]
          },
          "metadata": {
            "needs_background": "light"
          }
        }
      ]
    },
    {
      "cell_type": "markdown",
      "metadata": {
        "id": "epgtmYkPnFRF"
      },
      "source": [
        "#### 3.10 今度は検証データに対する評価結果を確認してみましょう。誤差と正解率を算出して下さい。"
      ]
    },
    {
      "cell_type": "code",
      "execution_count": 45,
      "metadata": {
        "id": "W_epAa7HnFRF"
      },
      "outputs": [],
      "source": [
        "# print('loss:',history.history['loss'])\n",
        "# print('laccuracy:',history.history['accuracy'])"
      ]
    },
    {
      "cell_type": "code",
      "source": [
        "#verboseは進行状況メッセを出力するかどうか \n",
        "loss, accuracy  = model.evaluate(X_test, y_test, verbose=False)\n",
        "print('loss:',loss)\n",
        "print('accuracy:',accuracy)"
      ],
      "metadata": {
        "colab": {
          "base_uri": "https://localhost:8080/"
        },
        "id": "LZ9prF_gB0u3",
        "outputId": "fea39b09-7f9b-44a4-cb17-1abe9d34eb23"
      },
      "execution_count": 46,
      "outputs": [
        {
          "output_type": "stream",
          "name": "stdout",
          "text": [
            "loss: 0.37947994470596313\n",
            "accuracy: 0.9031000137329102\n"
          ]
        }
      ]
    },
    {
      "cell_type": "markdown",
      "source": [
        ""
      ],
      "metadata": {
        "id": "7FH1on73BRJd"
      }
    },
    {
      "cell_type": "markdown",
      "metadata": {
        "id": "2c0Ft1AsnFRF"
      },
      "source": [
        "#### 3.11 「3.8」の条件と、中間層を「1つ」追加した時と「2つ」追加した時の「モデルサマリ」、「正解率推移」、「評価指標」を確認して下さい。※今までの処理を関数化するイメージです。中間層の入力数と出力数は「32」で設定しましょう。"
      ]
    },
    {
      "cell_type": "code",
      "execution_count": 47,
      "metadata": {
        "colab": {
          "base_uri": "https://localhost:8080/",
          "height": 1000
        },
        "id": "GeD7i7yfnFRF",
        "outputId": "c09907f7-74a9-425f-e5d0-9e9e2b57aeab"
      },
      "outputs": [
        {
          "output_type": "stream",
          "name": "stdout",
          "text": [
            "Model: \"sequential_1\"\n",
            "_________________________________________________________________\n",
            " Layer (type)                Output Shape              Param #   \n",
            "=================================================================\n",
            " dense_2 (Dense)             (None, 32)                25120     \n",
            "                                                                 \n",
            " dense_3 (Dense)             (None, 10)                330       \n",
            "                                                                 \n",
            "=================================================================\n",
            "Total params: 25,450\n",
            "Trainable params: 25,450\n",
            "Non-trainable params: 0\n",
            "_________________________________________________________________\n",
            "Epoch 1/4\n",
            "600/600 [==============================] - 2s 2ms/step - loss: 2.1292 - accuracy: 0.4101\n",
            "Epoch 2/4\n",
            "600/600 [==============================] - 1s 2ms/step - loss: 1.6983 - accuracy: 0.6897\n",
            "Epoch 3/4\n",
            "600/600 [==============================] - 1s 2ms/step - loss: 1.3450 - accuracy: 0.7516\n",
            "Epoch 4/4\n",
            "600/600 [==============================] - 1s 2ms/step - loss: 1.0932 - accuracy: 0.7919\n",
            "313/313 [==============================] - 1s 1ms/step - loss: 0.9806 - accuracy: 0.8185\n"
          ]
        },
        {
          "output_type": "display_data",
          "data": {
            "image/png": "[encoded data removed]",
            "text/plain": [
              "<Figure size 432x288 with 1 Axes>"
            ]
          },
          "metadata": {
            "needs_background": "light"
          }
        },
        {
          "output_type": "stream",
          "name": "stdout",
          "text": [
            "accuracy 0.8184999823570251\n",
            "Model: \"sequential_2\"\n",
            "_________________________________________________________________\n",
            " Layer (type)                Output Shape              Param #   \n",
            "=================================================================\n",
            " dense_4 (Dense)             (None, 32)                25120     \n",
            "                                                                 \n",
            " dense_5 (Dense)             (None, 32)                1056      \n",
            "                                                                 \n",
            " dense_6 (Dense)             (None, 10)                330       \n",
            "                                                                 \n",
            "=================================================================\n",
            "Total params: 26,506\n",
            "Trainable params: 26,506\n",
            "Non-trainable params: 0\n",
            "_________________________________________________________________\n",
            "Epoch 1/4\n",
            "600/600 [==============================] - 2s 2ms/step - loss: 2.3128 - accuracy: 0.1462\n",
            "Epoch 2/4\n",
            "600/600 [==============================] - 1s 2ms/step - loss: 2.2468 - accuracy: 0.2522\n",
            "Epoch 3/4\n",
            "600/600 [==============================] - 1s 2ms/step - loss: 2.1961 - accuracy: 0.3769\n",
            "Epoch 4/4\n",
            "600/600 [==============================] - 1s 2ms/step - loss: 2.1196 - accuracy: 0.4511\n",
            "313/313 [==============================] - 1s 1ms/step - loss: 2.0645 - accuracy: 0.4944\n"
          ]
        },
        {
          "output_type": "display_data",
          "data": {
            "image/png": "[encoded data removed]",
            "text/plain": [
              "<Figure size 432x288 with 1 Axes>"
            ]
          },
          "metadata": {
            "needs_background": "light"
          }
        },
        {
          "output_type": "stream",
          "name": "stdout",
          "text": [
            "accuracy 0.4943999946117401\n",
            "Model: \"sequential_3\"\n",
            "_________________________________________________________________\n",
            " Layer (type)                Output Shape              Param #   \n",
            "=================================================================\n",
            " dense_7 (Dense)             (None, 32)                25120     \n",
            "                                                                 \n",
            " dense_8 (Dense)             (None, 32)                1056      \n",
            "                                                                 \n",
            " dense_9 (Dense)             (None, 32)                1056      \n",
            "                                                                 \n",
            " dense_10 (Dense)            (None, 10)                330       \n",
            "                                                                 \n",
            "=================================================================\n",
            "Total params: 27,562\n",
            "Trainable params: 27,562\n",
            "Non-trainable params: 0\n",
            "_________________________________________________________________\n",
            "Epoch 1/4\n",
            "600/600 [==============================] - 2s 2ms/step - loss: 2.3077 - accuracy: 0.1079\n",
            "Epoch 2/4\n",
            "600/600 [==============================] - 1s 2ms/step - loss: 2.2969 - accuracy: 0.1126\n",
            "Epoch 3/4\n",
            "600/600 [==============================] - 1s 2ms/step - loss: 2.2945 - accuracy: 0.1124\n",
            "Epoch 4/4\n",
            "600/600 [==============================] - 1s 2ms/step - loss: 2.2918 - accuracy: 0.1128\n",
            "313/313 [==============================] - 1s 1ms/step - loss: 2.2896 - accuracy: 0.1135\n"
          ]
        },
        {
          "output_type": "display_data",
          "data": {
            "image/png": "[encoded data removed]",
            "text/plain": [
              "<Figure size 432x288 with 1 Axes>"
            ]
          },
          "metadata": {
            "needs_background": "light"
          }
        },
        {
          "output_type": "stream",
          "name": "stdout",
          "text": [
            "accuracy 0.11349999904632568\n"
          ]
        }
      ],
      "source": [
        "image_size = 784\n",
        "num_classes = 10\n",
        "activation = 'sigmoid'\n",
        "\n",
        "# modelを作成\n",
        "def create_model(layer_num,activation):\n",
        "    model = Sequential()\n",
        "    model.add(Dense(layer_num[0], activation=activation, input_shape=(image_size,)))\n",
        "\n",
        "    for s in layer_num[1:]:\n",
        "        model.add(Dense(units = s, activation =activation))\n",
        "\n",
        "    model.add(Dense(units=num_classes, activation='softmax'))\n",
        "    return model\n",
        "\n",
        "# modelごとに評価\n",
        "def evaluate(model, batch_size=100, epochs=4):\n",
        "    model.summary()\n",
        "    model.compile(optimizer='sgd', loss='categorical_crossentropy', metrics=['accuracy'])\n",
        "    history = model.fit(X_train, y_train, batch_size=batch_size, epochs=epochs)\n",
        "    loss, accuracy  = model.evaluate(X_test, y_test)\n",
        "    \n",
        "    plt.plot(history.history['accuracy'])\n",
        "    plt.title('model accuracy')\n",
        "    plt.ylabel('accuracy')\n",
        "    plt.xlabel('epoch')\n",
        "    plt.legend(['training'])\n",
        "    plt.show()\n",
        "    print(\"accuracy\",accuracy)\n",
        "\n",
        "# 中間層を増やした結果を出力\n",
        "for layers in range(1, 4):\n",
        "    model = create_model([32] * layers,activation)\n",
        "    evaluate(model)"
      ]
    },
    {
      "cell_type": "markdown",
      "metadata": {
        "id": "J3X5XG0lnFRF"
      },
      "source": [
        "#### 3.12 層を増やせば増やすほど、学習データの精度が劣化していることが確認できました。次は「3.11」の「中間層を2層追加した状態」でエポック数を40回に設定し、学習データの精度の推移を確認して下さい。"
      ]
    },
    {
      "cell_type": "code",
      "execution_count": 48,
      "metadata": {
        "colab": {
          "base_uri": "https://localhost:8080/",
          "height": 1000
        },
        "id": "T18f8lPXnFRF",
        "outputId": "cb159497-8445-4c96-a002-0f5c0378fe01"
      },
      "outputs": [
        {
          "output_type": "stream",
          "name": "stdout",
          "text": [
            "Model: \"sequential_4\"\n",
            "_________________________________________________________________\n",
            " Layer (type)                Output Shape              Param #   \n",
            "=================================================================\n",
            " dense_11 (Dense)            (None, 32)                25120     \n",
            "                                                                 \n",
            " dense_12 (Dense)            (None, 32)                1056      \n",
            "                                                                 \n",
            " dense_13 (Dense)            (None, 32)                1056      \n",
            "                                                                 \n",
            " dense_14 (Dense)            (None, 10)                330       \n",
            "                                                                 \n",
            "=================================================================\n",
            "Total params: 27,562\n",
            "Trainable params: 27,562\n",
            "Non-trainable params: 0\n",
            "_________________________________________________________________\n",
            "Epoch 1/40\n",
            "600/600 [==============================] - 2s 2ms/step - loss: 2.3054 - accuracy: 0.1097\n",
            "Epoch 2/40\n",
            "600/600 [==============================] - 1s 2ms/step - loss: 2.2989 - accuracy: 0.1124\n",
            "Epoch 3/40\n",
            "600/600 [==============================] - 1s 2ms/step - loss: 2.2969 - accuracy: 0.1176\n",
            "Epoch 4/40\n",
            "600/600 [==============================] - 1s 2ms/step - loss: 2.2948 - accuracy: 0.1133\n",
            "Epoch 5/40\n",
            "600/600 [==============================] - 1s 2ms/step - loss: 2.2923 - accuracy: 0.1151\n",
            "Epoch 6/40\n",
            "600/600 [==============================] - 1s 2ms/step - loss: 2.2894 - accuracy: 0.1136\n",
            "Epoch 7/40\n",
            "600/600 [==============================] - 1s 2ms/step - loss: 2.2860 - accuracy: 0.1249\n",
            "Epoch 8/40\n",
            "600/600 [==============================] - 1s 2ms/step - loss: 2.2818 - accuracy: 0.1270\n",
            "Epoch 9/40\n",
            "600/600 [==============================] - 1s 2ms/step - loss: 2.2764 - accuracy: 0.1480\n",
            "Epoch 10/40\n",
            "600/600 [==============================] - 1s 2ms/step - loss: 2.2695 - accuracy: 0.1715\n",
            "Epoch 11/40\n",
            "600/600 [==============================] - 1s 2ms/step - loss: 2.2603 - accuracy: 0.2151\n",
            "Epoch 12/40\n",
            "600/600 [==============================] - 1s 2ms/step - loss: 2.2475 - accuracy: 0.2608\n",
            "Epoch 13/40\n",
            "600/600 [==============================] - 1s 2ms/step - loss: 2.2294 - accuracy: 0.2870\n",
            "Epoch 14/40\n",
            "600/600 [==============================] - 1s 2ms/step - loss: 2.2030 - accuracy: 0.3034\n",
            "Epoch 15/40\n",
            "600/600 [==============================] - 1s 2ms/step - loss: 2.1638 - accuracy: 0.3219\n",
            "Epoch 16/40\n",
            "600/600 [==============================] - 1s 2ms/step - loss: 2.1066 - accuracy: 0.3395\n",
            "Epoch 17/40\n",
            "600/600 [==============================] - 1s 2ms/step - loss: 2.0299 - accuracy: 0.3595\n",
            "Epoch 18/40\n",
            "600/600 [==============================] - 1s 2ms/step - loss: 1.9404 - accuracy: 0.3839\n",
            "Epoch 19/40\n",
            "600/600 [==============================] - 1s 2ms/step - loss: 1.8495 - accuracy: 0.4139\n",
            "Epoch 20/40\n",
            "600/600 [==============================] - 1s 2ms/step - loss: 1.7617 - accuracy: 0.4419\n",
            "Epoch 21/40\n",
            "600/600 [==============================] - 1s 2ms/step - loss: 1.6747 - accuracy: 0.4645\n",
            "Epoch 22/40\n",
            "600/600 [==============================] - 1s 2ms/step - loss: 1.5872 - accuracy: 0.4946\n",
            "Epoch 23/40\n",
            "600/600 [==============================] - 1s 2ms/step - loss: 1.5012 - accuracy: 0.5164\n",
            "Epoch 24/40\n",
            "600/600 [==============================] - 1s 2ms/step - loss: 1.4204 - accuracy: 0.5440\n",
            "Epoch 25/40\n",
            "600/600 [==============================] - 1s 2ms/step - loss: 1.3462 - accuracy: 0.5671\n",
            "Epoch 26/40\n",
            "600/600 [==============================] - 1s 2ms/step - loss: 1.2779 - accuracy: 0.5936\n",
            "Epoch 27/40\n",
            "600/600 [==============================] - 1s 2ms/step - loss: 1.2141 - accuracy: 0.6188\n",
            "Epoch 28/40\n",
            "600/600 [==============================] - 1s 2ms/step - loss: 1.1538 - accuracy: 0.6424\n",
            "Epoch 29/40\n",
            "600/600 [==============================] - 1s 2ms/step - loss: 1.0968 - accuracy: 0.6648\n",
            "Epoch 30/40\n",
            "600/600 [==============================] - 1s 2ms/step - loss: 1.0436 - accuracy: 0.6844\n",
            "Epoch 31/40\n",
            "600/600 [==============================] - 1s 2ms/step - loss: 0.9949 - accuracy: 0.7000\n",
            "Epoch 32/40\n",
            "600/600 [==============================] - 1s 2ms/step - loss: 0.9510 - accuracy: 0.7154\n",
            "Epoch 33/40\n",
            "600/600 [==============================] - 1s 2ms/step - loss: 0.9120 - accuracy: 0.7275\n",
            "Epoch 34/40\n",
            "600/600 [==============================] - 1s 2ms/step - loss: 0.8774 - accuracy: 0.7391\n",
            "Epoch 35/40\n",
            "600/600 [==============================] - 1s 2ms/step - loss: 0.8467 - accuracy: 0.7500\n",
            "Epoch 36/40\n",
            "600/600 [==============================] - 1s 2ms/step - loss: 0.8193 - accuracy: 0.7592\n",
            "Epoch 37/40\n",
            "600/600 [==============================] - 1s 2ms/step - loss: 0.7946 - accuracy: 0.7692\n",
            "Epoch 38/40\n",
            "600/600 [==============================] - 1s 2ms/step - loss: 0.7723 - accuracy: 0.7770\n",
            "Epoch 39/40\n",
            "600/600 [==============================] - 1s 2ms/step - loss: 0.7517 - accuracy: 0.7837\n",
            "Epoch 40/40\n",
            "600/600 [==============================] - 1s 2ms/step - loss: 0.7328 - accuracy: 0.7910\n",
            "313/313 [==============================] - 1s 1ms/step - loss: 0.7224 - accuracy: 0.7971\n"
          ]
        },
        {
          "output_type": "display_data",
          "data": {
            "image/png": "[encoded data removed]",
            "text/plain": [
              "<Figure size 432x288 with 1 Axes>"
            ]
          },
          "metadata": {
            "needs_background": "light"
          }
        },
        {
          "output_type": "stream",
          "name": "stdout",
          "text": [
            "accuracy 0.7971000075340271\n"
          ]
        }
      ],
      "source": [
        "model = create_model([32] * 3,'sigmoid')\n",
        "evaluate(model,epochs=40)"
      ]
    },
    {
      "cell_type": "markdown",
      "metadata": {
        "id": "VdEKvSYInFRF"
      },
      "source": [
        "#### 3.13 「3.12」の条件に加えてepochsを「10」で設定し、学習データと検証データの「誤差」の推移を確認してグラフを出力して下さい。※モデルを初期化する必要はないです。"
      ]
    },
    {
      "cell_type": "code",
      "execution_count": 49,
      "metadata": {
        "colab": {
          "base_uri": "https://localhost:8080/",
          "height": 0
        },
        "id": "TnplpnOGnFRF",
        "outputId": "a6cabf33-c51e-41c4-bf0d-2ebdbb612ba3"
      },
      "outputs": [
        {
          "output_type": "stream",
          "name": "stdout",
          "text": [
            "Epoch 1/10\n",
            "600/600 [==============================] - 2s 3ms/step - loss: 0.7153 - accuracy: 0.7971 - val_loss: 0.7052 - val_accuracy: 0.8063\n",
            "Epoch 2/10\n",
            "600/600 [==============================] - 2s 3ms/step - loss: 0.6989 - accuracy: 0.8029 - val_loss: 0.6898 - val_accuracy: 0.8117\n",
            "Epoch 3/10\n",
            "600/600 [==============================] - 2s 3ms/step - loss: 0.6835 - accuracy: 0.8087 - val_loss: 0.6742 - val_accuracy: 0.8184\n",
            "Epoch 4/10\n",
            "600/600 [==============================] - 2s 3ms/step - loss: 0.6689 - accuracy: 0.8135 - val_loss: 0.6601 - val_accuracy: 0.8218\n",
            "Epoch 5/10\n",
            "600/600 [==============================] - 2s 3ms/step - loss: 0.6551 - accuracy: 0.8180 - val_loss: 0.6466 - val_accuracy: 0.8254\n",
            "Epoch 6/10\n",
            "600/600 [==============================] - 2s 3ms/step - loss: 0.6417 - accuracy: 0.8231 - val_loss: 0.6335 - val_accuracy: 0.8294\n",
            "Epoch 7/10\n",
            "600/600 [==============================] - 2s 3ms/step - loss: 0.6290 - accuracy: 0.8281 - val_loss: 0.6209 - val_accuracy: 0.8332\n",
            "Epoch 8/10\n",
            "600/600 [==============================] - 2s 3ms/step - loss: 0.6167 - accuracy: 0.8323 - val_loss: 0.6087 - val_accuracy: 0.8380\n",
            "Epoch 9/10\n",
            "600/600 [==============================] - 2s 3ms/step - loss: 0.6048 - accuracy: 0.8367 - val_loss: 0.5971 - val_accuracy: 0.8420\n",
            "Epoch 10/10\n",
            "600/600 [==============================] - 2s 3ms/step - loss: 0.5934 - accuracy: 0.8403 - val_loss: 0.5854 - val_accuracy: 0.8441\n"
          ]
        },
        {
          "output_type": "display_data",
          "data": {
            "image/png": "[encoded data removed]",
            "text/plain": [
              "<Figure size 432x288 with 1 Axes>"
            ]
          },
          "metadata": {
            "needs_background": "light"
          }
        }
      ],
      "source": [
        "history = model.fit(X_train,y_train,epochs = 10,batch_size = 100,validation_data=(X_test,y_test))\n",
        "\n",
        "history_dict = history.history\n",
        "loss_values = history_dict['loss']\n",
        "val_loss_values = history_dict['val_loss']\n",
        "\n",
        "epochs = range(1,len(loss_values) + 1)\n",
        "\n",
        "plt.plot(epochs,loss_values,'bo',label='training loss')\n",
        "plt.plot(epochs,val_loss_values,'b',label='Validation loss')\n",
        "plt.show()"
      ]
    },
    {
      "cell_type": "markdown",
      "metadata": {
        "id": "waMtH5qlnFRG"
      },
      "source": [
        "#### 3.14「学習データ」、「検証データ」共に、誤差が減少していることが分かります。複雑なモデルには、沢山の学習が必要なようです。今度は中間層無しで入力数を[32, 64, 128, 256]と変更したときの。学習データの精度を確認してみましょう。"
      ]
    },
    {
      "cell_type": "code",
      "execution_count": 50,
      "metadata": {
        "colab": {
          "base_uri": "https://localhost:8080/",
          "height": 1000
        },
        "id": "E38imGl1nFRG",
        "outputId": "b8970af7-06c8-4616-cd78-cf52a1e1acc1"
      },
      "outputs": [
        {
          "output_type": "stream",
          "name": "stdout",
          "text": [
            "Model: \"sequential_5\"\n",
            "_________________________________________________________________\n",
            " Layer (type)                Output Shape              Param #   \n",
            "=================================================================\n",
            " dense_15 (Dense)            (None, 32)                25120     \n",
            "                                                                 \n",
            " dense_16 (Dense)            (None, 10)                330       \n",
            "                                                                 \n",
            "=================================================================\n",
            "Total params: 25,450\n",
            "Trainable params: 25,450\n",
            "Non-trainable params: 0\n",
            "_________________________________________________________________\n",
            "Epoch 1/4\n",
            "600/600 [==============================] - 2s 2ms/step - loss: 2.0572 - accuracy: 0.4899\n",
            "Epoch 2/4\n",
            "600/600 [==============================] - 1s 2ms/step - loss: 1.5945 - accuracy: 0.7103\n",
            "Epoch 3/4\n",
            "600/600 [==============================] - 1s 2ms/step - loss: 1.2676 - accuracy: 0.7536\n",
            "Epoch 4/4\n",
            "600/600 [==============================] - 1s 2ms/step - loss: 1.0502 - accuracy: 0.7873\n",
            "313/313 [==============================] - 1s 1ms/step - loss: 0.9507 - accuracy: 0.8121\n"
          ]
        },
        {
          "output_type": "display_data",
          "data": {
            "image/png": "[encoded data removed]",
            "text/plain": [
              "<Figure size 432x288 with 1 Axes>"
            ]
          },
          "metadata": {
            "needs_background": "light"
          }
        },
        {
          "output_type": "stream",
          "name": "stdout",
          "text": [
            "accuracy 0.8120999932289124\n",
            "\n",
            "Model: \"sequential_6\"\n",
            "_________________________________________________________________\n",
            " Layer (type)                Output Shape              Param #   \n",
            "=================================================================\n",
            " dense_17 (Dense)            (None, 64)                50240     \n",
            "                                                                 \n",
            " dense_18 (Dense)            (None, 10)                650       \n",
            "                                                                 \n",
            "=================================================================\n",
            "Total params: 50,890\n",
            "Trainable params: 50,890\n",
            "Non-trainable params: 0\n",
            "_________________________________________________________________\n",
            "Epoch 1/4\n",
            "600/600 [==============================] - 2s 3ms/step - loss: 2.0298 - accuracy: 0.5318\n",
            "Epoch 2/4\n",
            "600/600 [==============================] - 2s 3ms/step - loss: 1.5076 - accuracy: 0.7420\n",
            "Epoch 3/4\n",
            "600/600 [==============================] - 2s 3ms/step - loss: 1.1437 - accuracy: 0.7941\n",
            "Epoch 4/4\n",
            "600/600 [==============================] - 2s 3ms/step - loss: 0.9175 - accuracy: 0.8255\n",
            "313/313 [==============================] - 1s 1ms/step - loss: 0.8176 - accuracy: 0.8444\n"
          ]
        },
        {
          "output_type": "display_data",
          "data": {
            "image/png": "[encoded data removed]",
            "text/plain": [
              "<Figure size 432x288 with 1 Axes>"
            ]
          },
          "metadata": {
            "needs_background": "light"
          }
        },
        {
          "output_type": "stream",
          "name": "stdout",
          "text": [
            "accuracy 0.8443999886512756\n",
            "\n",
            "Model: \"sequential_7\"\n",
            "_________________________________________________________________\n",
            " Layer (type)                Output Shape              Param #   \n",
            "=================================================================\n",
            " dense_19 (Dense)            (None, 128)               100480    \n",
            "                                                                 \n",
            " dense_20 (Dense)            (None, 10)                1290      \n",
            "                                                                 \n",
            "=================================================================\n",
            "Total params: 101,770\n",
            "Trainable params: 101,770\n",
            "Non-trainable params: 0\n",
            "_________________________________________________________________\n",
            "Epoch 1/4\n",
            "600/600 [==============================] - 2s 3ms/step - loss: 1.9759 - accuracy: 0.5312\n",
            "Epoch 2/4\n",
            "600/600 [==============================] - 2s 3ms/step - loss: 1.3979 - accuracy: 0.7537\n",
            "Epoch 3/4\n",
            "600/600 [==============================] - 2s 3ms/step - loss: 1.0342 - accuracy: 0.8079\n",
            "Epoch 4/4\n",
            "600/600 [==============================] - 2s 3ms/step - loss: 0.8279 - accuracy: 0.8331\n",
            "313/313 [==============================] - 1s 2ms/step - loss: 0.7360 - accuracy: 0.8525\n"
          ]
        },
        {
          "output_type": "display_data",
          "data": {
            "image/png": "[encoded data removed]",
            "text/plain": [
              "<Figure size 432x288 with 1 Axes>"
            ]
          },
          "metadata": {
            "needs_background": "light"
          }
        },
        {
          "output_type": "stream",
          "name": "stdout",
          "text": [
            "accuracy 0.8525000214576721\n",
            "\n",
            "Model: \"sequential_8\"\n",
            "_________________________________________________________________\n",
            " Layer (type)                Output Shape              Param #   \n",
            "=================================================================\n",
            " dense_21 (Dense)            (None, 256)               200960    \n",
            "                                                                 \n",
            " dense_22 (Dense)            (None, 10)                2570      \n",
            "                                                                 \n",
            "=================================================================\n",
            "Total params: 203,530\n",
            "Trainable params: 203,530\n",
            "Non-trainable params: 0\n",
            "_________________________________________________________________\n",
            "Epoch 1/4\n",
            "600/600 [==============================] - 3s 4ms/step - loss: 1.9112 - accuracy: 0.5845\n",
            "Epoch 2/4\n",
            "600/600 [==============================] - 2s 4ms/step - loss: 1.2927 - accuracy: 0.7781\n",
            "Epoch 3/4\n",
            "600/600 [==============================] - 3s 4ms/step - loss: 0.9444 - accuracy: 0.8196\n",
            "Epoch 4/4\n",
            "600/600 [==============================] - 3s 4ms/step - loss: 0.7615 - accuracy: 0.8404\n",
            "313/313 [==============================] - 1s 2ms/step - loss: 0.6781 - accuracy: 0.8539\n"
          ]
        },
        {
          "output_type": "display_data",
          "data": {
            "image/png": "[encoded data removed]",
            "text/plain": [
              "<Figure size 432x288 with 1 Axes>"
            ]
          },
          "metadata": {
            "needs_background": "light"
          }
        },
        {
          "output_type": "stream",
          "name": "stdout",
          "text": [
            "accuracy 0.8539000153541565\n",
            "\n"
          ]
        }
      ],
      "source": [
        "for nodes in [32, 64, 128, 256]:\n",
        "    model = create_model([nodes],'sigmoid')\n",
        "    evaluate(model)\n",
        "    print()"
      ]
    },
    {
      "cell_type": "markdown",
      "metadata": {
        "id": "pDfCyneBnFRG"
      },
      "source": [
        "#### 3.15 入力数を増やした結果、層を増やした結果より効果が得られました。モデルは複雑になり過ぎず、簡単になり過ぎず、様々な条件を試行して、良いバランスを目指す必要があります。活性化関数を「relu」に変更し、その他は「3.11」の条件で精度を確認してみて下さい。"
      ]
    },
    {
      "cell_type": "code",
      "execution_count": 51,
      "metadata": {
        "colab": {
          "base_uri": "https://localhost:8080/",
          "height": 1000
        },
        "id": "8e3-_qoFnFRG",
        "outputId": "6b501539-dd9f-43e6-a1d8-e146336c404b"
      },
      "outputs": [
        {
          "output_type": "stream",
          "name": "stdout",
          "text": [
            "Model: \"sequential_9\"\n",
            "_________________________________________________________________\n",
            " Layer (type)                Output Shape              Param #   \n",
            "=================================================================\n",
            " dense_23 (Dense)            (None, 32)                25120     \n",
            "                                                                 \n",
            " dense_24 (Dense)            (None, 10)                330       \n",
            "                                                                 \n",
            "=================================================================\n",
            "Total params: 25,450\n",
            "Trainable params: 25,450\n",
            "Non-trainable params: 0\n",
            "_________________________________________________________________\n",
            "Epoch 1/4\n",
            "600/600 [==============================] - 2s 2ms/step - loss: 1.1780 - accuracy: 0.6885\n",
            "Epoch 2/4\n",
            "600/600 [==============================] - 1s 2ms/step - loss: 0.5443 - accuracy: 0.8622\n",
            "Epoch 3/4\n",
            "600/600 [==============================] - 1s 2ms/step - loss: 0.4314 - accuracy: 0.8844\n",
            "Epoch 4/4\n",
            "600/600 [==============================] - 1s 2ms/step - loss: 0.3835 - accuracy: 0.8948\n",
            "313/313 [==============================] - 1s 1ms/step - loss: 0.3512 - accuracy: 0.9036\n"
          ]
        },
        {
          "output_type": "display_data",
          "data": {
            "image/png": "[encoded data removed]",
            "text/plain": [
              "<Figure size 432x288 with 1 Axes>"
            ]
          },
          "metadata": {
            "needs_background": "light"
          }
        },
        {
          "output_type": "stream",
          "name": "stdout",
          "text": [
            "accuracy 0.9035999774932861\n",
            "Model: \"sequential_10\"\n",
            "_________________________________________________________________\n",
            " Layer (type)                Output Shape              Param #   \n",
            "=================================================================\n",
            " dense_25 (Dense)            (None, 32)                25120     \n",
            "                                                                 \n",
            " dense_26 (Dense)            (None, 32)                1056      \n",
            "                                                                 \n",
            " dense_27 (Dense)            (None, 10)                330       \n",
            "                                                                 \n",
            "=================================================================\n",
            "Total params: 26,506\n",
            "Trainable params: 26,506\n",
            "Non-trainable params: 0\n",
            "_________________________________________________________________\n",
            "Epoch 1/4\n",
            "600/600 [==============================] - 2s 2ms/step - loss: 1.2701 - accuracy: 0.6549\n",
            "Epoch 2/4\n",
            "600/600 [==============================] - 1s 2ms/step - loss: 0.5093 - accuracy: 0.8624\n",
            "Epoch 3/4\n",
            "600/600 [==============================] - 1s 2ms/step - loss: 0.3967 - accuracy: 0.8900\n",
            "Epoch 4/4\n",
            "600/600 [==============================] - 1s 2ms/step - loss: 0.3500 - accuracy: 0.9018\n",
            "313/313 [==============================] - 1s 1ms/step - loss: 0.3179 - accuracy: 0.9085\n"
          ]
        },
        {
          "output_type": "display_data",
          "data": {
            "image/png": "[encoded data removed]",
            "text/plain": [
              "<Figure size 432x288 with 1 Axes>"
            ]
          },
          "metadata": {
            "needs_background": "light"
          }
        },
        {
          "output_type": "stream",
          "name": "stdout",
          "text": [
            "accuracy 0.9085000157356262\n",
            "Model: \"sequential_11\"\n",
            "_________________________________________________________________\n",
            " Layer (type)                Output Shape              Param #   \n",
            "=================================================================\n",
            " dense_28 (Dense)            (None, 32)                25120     \n",
            "                                                                 \n",
            " dense_29 (Dense)            (None, 32)                1056      \n",
            "                                                                 \n",
            " dense_30 (Dense)            (None, 32)                1056      \n",
            "                                                                 \n",
            " dense_31 (Dense)            (None, 10)                330       \n",
            "                                                                 \n",
            "=================================================================\n",
            "Total params: 27,562\n",
            "Trainable params: 27,562\n",
            "Non-trainable params: 0\n",
            "_________________________________________________________________\n",
            "Epoch 1/4\n",
            "600/600 [==============================] - 2s 2ms/step - loss: 1.5676 - accuracy: 0.5357\n",
            "Epoch 2/4\n",
            "600/600 [==============================] - 1s 2ms/step - loss: 0.5736 - accuracy: 0.8448\n",
            "Epoch 3/4\n",
            "600/600 [==============================] - 1s 2ms/step - loss: 0.4079 - accuracy: 0.8852\n",
            "Epoch 4/4\n",
            "600/600 [==============================] - 1s 2ms/step - loss: 0.3498 - accuracy: 0.8996\n",
            "313/313 [==============================] - 1s 2ms/step - loss: 0.3191 - accuracy: 0.9049\n"
          ]
        },
        {
          "output_type": "display_data",
          "data": {
            "image/png": "[encoded data removed]",
            "text/plain": [
              "<Figure size 432x288 with 1 Axes>"
            ]
          },
          "metadata": {
            "needs_background": "light"
          }
        },
        {
          "output_type": "stream",
          "name": "stdout",
          "text": [
            "accuracy 0.9049000144004822\n"
          ]
        }
      ],
      "source": [
        "image_size = 784\n",
        "num_classes = 10\n",
        "activation = 'relu'\n",
        "\n",
        "for layers in range(1, 4):\n",
        "    model = create_model([32] * layers,activation)\n",
        "    evaluate(model)"
      ]
    },
    {
      "cell_type": "markdown",
      "metadata": {
        "id": "mMfX8PJanFRG"
      },
      "source": [
        "#### 3.16 活性化関数は「sigmoid」ではなく「relu」を使用した方が、一般的には良い精度が得られることが多いです。compileの最適化関数も変更してみましょう。「sgd」から「rmsprop」に変更して精度を確認して下さい。※データによって「最適なモデル」の条件は異なります。様々な観点で試行していくことが重要です。"
      ]
    },
    {
      "cell_type": "code",
      "execution_count": 52,
      "metadata": {
        "colab": {
          "base_uri": "https://localhost:8080/",
          "height": 1000
        },
        "id": "ubHqkTYZnFRG",
        "outputId": "28cf2f21-3cbc-4bc5-c507-19d2a1e4cac8"
      },
      "outputs": [
        {
          "output_type": "stream",
          "name": "stdout",
          "text": [
            "Model: \"sequential_12\"\n",
            "_________________________________________________________________\n",
            " Layer (type)                Output Shape              Param #   \n",
            "=================================================================\n",
            " dense_32 (Dense)            (None, 32)                25120     \n",
            "                                                                 \n",
            " dense_33 (Dense)            (None, 10)                330       \n",
            "                                                                 \n",
            "=================================================================\n",
            "Total params: 25,450\n",
            "Trainable params: 25,450\n",
            "Non-trainable params: 0\n",
            "_________________________________________________________________\n",
            "Epoch 1/4\n",
            "600/600 [==============================] - 2s 2ms/step - loss: 1.2579 - accuracy: 0.6713\n",
            "Epoch 2/4\n",
            "600/600 [==============================] - 1s 2ms/step - loss: 0.5504 - accuracy: 0.8612\n",
            "Epoch 3/4\n",
            "600/600 [==============================] - 1s 2ms/step - loss: 0.4321 - accuracy: 0.8837\n",
            "Epoch 4/4\n",
            "600/600 [==============================] - 1s 2ms/step - loss: 0.3832 - accuracy: 0.8943\n",
            "313/313 [==============================] - 1s 1ms/step - loss: 0.3489 - accuracy: 0.9030\n"
          ]
        },
        {
          "output_type": "display_data",
          "data": {
            "image/png": "[encoded data removed]",
            "text/plain": [
              "<Figure size 432x288 with 1 Axes>"
            ]
          },
          "metadata": {
            "needs_background": "light"
          }
        },
        {
          "output_type": "stream",
          "name": "stdout",
          "text": [
            "accuracy 0.902999997138977\n",
            "Model: \"sequential_13\"\n",
            "_________________________________________________________________\n",
            " Layer (type)                Output Shape              Param #   \n",
            "=================================================================\n",
            " dense_34 (Dense)            (None, 32)                25120     \n",
            "                                                                 \n",
            " dense_35 (Dense)            (None, 32)                1056      \n",
            "                                                                 \n",
            " dense_36 (Dense)            (None, 10)                330       \n",
            "                                                                 \n",
            "=================================================================\n",
            "Total params: 26,506\n",
            "Trainable params: 26,506\n",
            "Non-trainable params: 0\n",
            "_________________________________________________________________\n",
            "Epoch 1/4\n",
            "600/600 [==============================] - 2s 2ms/step - loss: 1.3922 - accuracy: 0.6143\n",
            "Epoch 2/4\n",
            "600/600 [==============================] - 1s 2ms/step - loss: 0.5262 - accuracy: 0.8604\n",
            "Epoch 3/4\n",
            "600/600 [==============================] - 1s 2ms/step - loss: 0.4062 - accuracy: 0.8868\n",
            "Epoch 4/4\n",
            "600/600 [==============================] - 1s 2ms/step - loss: 0.3603 - accuracy: 0.8990\n",
            "313/313 [==============================] - 1s 1ms/step - loss: 0.3325 - accuracy: 0.9057\n"
          ]
        },
        {
          "output_type": "display_data",
          "data": {
            "image/png": "[encoded data removed]",
            "text/plain": [
              "<Figure size 432x288 with 1 Axes>"
            ]
          },
          "metadata": {
            "needs_background": "light"
          }
        },
        {
          "output_type": "stream",
          "name": "stdout",
          "text": [
            "accuracy 0.9057000279426575\n",
            "Model: \"sequential_14\"\n",
            "_________________________________________________________________\n",
            " Layer (type)                Output Shape              Param #   \n",
            "=================================================================\n",
            " dense_37 (Dense)            (None, 32)                25120     \n",
            "                                                                 \n",
            " dense_38 (Dense)            (None, 32)                1056      \n",
            "                                                                 \n",
            " dense_39 (Dense)            (None, 32)                1056      \n",
            "                                                                 \n",
            " dense_40 (Dense)            (None, 10)                330       \n",
            "                                                                 \n",
            "=================================================================\n",
            "Total params: 27,562\n",
            "Trainable params: 27,562\n",
            "Non-trainable params: 0\n",
            "_________________________________________________________________\n",
            "Epoch 1/4\n",
            "600/600 [==============================] - 2s 3ms/step - loss: 1.5891 - accuracy: 0.5019\n",
            "Epoch 2/4\n",
            "600/600 [==============================] - 1s 2ms/step - loss: 0.5474 - accuracy: 0.8415\n",
            "Epoch 3/4\n",
            "600/600 [==============================] - 1s 2ms/step - loss: 0.3970 - accuracy: 0.8845\n",
            "Epoch 4/4\n",
            "600/600 [==============================] - 1s 2ms/step - loss: 0.3430 - accuracy: 0.9004\n",
            "313/313 [==============================] - 1s 1ms/step - loss: 0.3099 - accuracy: 0.9089\n"
          ]
        },
        {
          "output_type": "display_data",
          "data": {
            "image/png": "[encoded data removed]",
            "text/plain": [
              "<Figure size 432x288 with 1 Axes>"
            ]
          },
          "metadata": {
            "needs_background": "light"
          }
        },
        {
          "output_type": "stream",
          "name": "stdout",
          "text": [
            "accuracy 0.9089000225067139\n"
          ]
        }
      ],
      "source": [
        "image_size = 784\n",
        "num_classes = 10\n",
        "activation = 'relu'\n",
        "model.compile(optimizer='rmsprop',\n",
        "              loss='categorical_crossentropy',\n",
        "              metrics=['accuracy'])\n",
        "\n",
        "for layers in range(1, 4):\n",
        "    model = create_model([32] * layers,activation)\n",
        "    evaluate(model)"
      ]
    },
    {
      "cell_type": "markdown",
      "metadata": {
        "id": "JetIX7nGnFRG"
      },
      "source": [
        "#### 3.17 約90%程度正解率があるようです。「3.16」で作成したモデルで（X_test[0]）に対して予測結果を出力してみましょう。"
      ]
    },
    {
      "cell_type": "code",
      "execution_count": 53,
      "metadata": {
        "colab": {
          "base_uri": "https://localhost:8080/"
        },
        "id": "boORvIEtnFRG",
        "outputId": "1899e545-99e7-4528-cd27-e652441a1a8f"
      },
      "outputs": [
        {
          "output_type": "execute_result",
          "data": {
            "text/plain": [
              "array([1.8214869e-04, 6.8591874e-07, 3.0309067e-04, 8.0596731e-04,\n",
              "       3.7253369e-05, 2.1189400e-05, 1.2611512e-08, 9.9479705e-01,\n",
              "       2.0044605e-05, 3.8327028e-03], dtype=float32)"
            ]
          },
          "metadata": {},
          "execution_count": 53
        }
      ],
      "source": [
        "model.predict(X_test)[0]"
      ]
    },
    {
      "cell_type": "markdown",
      "metadata": {
        "id": "SfypaUTRnFRG"
      },
      "source": [
        "#### 3.18 配列のままだと少し分かりづらいので、結果をグラフ化してみましょう。"
      ]
    },
    {
      "cell_type": "code",
      "execution_count": 54,
      "metadata": {
        "colab": {
          "base_uri": "https://localhost:8080/",
          "height": 281
        },
        "id": "WHHfxn-0nFRG",
        "outputId": "73ffa3e6-bbe9-4f5a-ed97-748dc88e53fe"
      },
      "outputs": [
        {
          "output_type": "execute_result",
          "data": {
            "text/plain": [
              "<matplotlib.axes._subplots.AxesSubplot at 0x7f9de9298b10>"
            ]
          },
          "metadata": {},
          "execution_count": 54
        },
        {
          "output_type": "display_data",
          "data": {
            "image/png": "[encoded data removed]",
            "text/plain": [
              "<Figure size 432x288 with 1 Axes>"
            ]
          },
          "metadata": {
            "needs_background": "light"
          }
        }
      ],
      "source": [
        "pd.Series(model.predict(X_test)[0]).plot()"
      ]
    },
    {
      "cell_type": "markdown",
      "metadata": {
        "id": "hP4_qrdtnFRG"
      },
      "source": [
        "#### 3.19 「7」と言う予測結果が出ています。「1.9」の方法で実際のデータの結果を確認してみましょう。"
      ]
    },
    {
      "cell_type": "code",
      "execution_count": 55,
      "metadata": {
        "colab": {
          "base_uri": "https://localhost:8080/",
          "height": 264
        },
        "id": "b8pBa8NPnFRG",
        "outputId": "6b739f34-eed1-4770-c773-c533fdce84c4"
      },
      "outputs": [
        {
          "output_type": "display_data",
          "data": {
            "image/png": "[encoded data removed]",
            "text/plain": [
              "<Figure size 432x288 with 1 Axes>"
            ]
          },
          "metadata": {
            "needs_background": "light"
          }
        }
      ],
      "source": [
        "digit = X_test[0].reshape(28,28)\n",
        "plt.imshow(digit,cmap=plt.cm.binary)\n",
        "plt.show()"
      ]
    },
    {
      "cell_type": "markdown",
      "metadata": {
        "id": "gy1fXtA9nFRG"
      },
      "source": [
        "### 4.CNNについて学習します。"
      ]
    },
    {
      "cell_type": "markdown",
      "metadata": {
        "id": "vDiI-5B5nFRG"
      },
      "source": [
        "#### 4.1 Sequentialのクラスを読み込み、modelという変数に格納して下さい。※先程作成したモデルが初期化されます。"
      ]
    },
    {
      "cell_type": "code",
      "execution_count": 56,
      "metadata": {
        "id": "NCH8fndynFRG"
      },
      "outputs": [],
      "source": [
        "# from keras.model import Sequential\n",
        "# model = Sequential()\n",
        "# model"
      ]
    },
    {
      "cell_type": "code",
      "source": [
        "from keras import layers\n",
        "from keras import models\n",
        "model = models.Sequential()\n",
        "model"
      ],
      "metadata": {
        "colab": {
          "base_uri": "https://localhost:8080/"
        },
        "id": "bgFe9aXosf5r",
        "outputId": "bbb3903e-23b4-4de7-be5b-d7a573a80659"
      },
      "execution_count": 57,
      "outputs": [
        {
          "output_type": "execute_result",
          "data": {
            "text/plain": [
              "<keras.engine.sequential.Sequential at 0x7f9de958e1d0>"
            ]
          },
          "metadata": {},
          "execution_count": 57
        }
      ]
    },
    {
      "cell_type": "markdown",
      "metadata": {
        "id": "EcDp7pBunFRG"
      },
      "source": [
        "#### 4.2 CNNの入力は画像の形式のまま扱う必要があります。X_trainとX_testの形状を画像の形式に変更して下さい。"
      ]
    },
    {
      "cell_type": "code",
      "execution_count": 58,
      "metadata": {
        "colab": {
          "base_uri": "https://localhost:8080/"
        },
        "id": "wi1Uo2COnFRG",
        "outputId": "ac710429-62ca-4bbd-8c69-b06dd1cb095d"
      },
      "outputs": [
        {
          "output_type": "stream",
          "name": "stdout",
          "text": [
            "X_train: (60000, 28, 28, 1)\n",
            "X_test: (10000, 28, 28, 1)\n"
          ]
        }
      ],
      "source": [
        "X_train = X_train.reshape((60000, 28, 28, 1))\n",
        "X_test = X_test.reshape((10000, 28, 28, 1))\n",
        "print(\"X_train:\",X_train.shape)\n",
        "print(\"X_test:\",X_test.shape)"
      ]
    },
    {
      "cell_type": "markdown",
      "metadata": {
        "id": "L5YS5Va4nFRG"
      },
      "source": [
        "#### 4.3 CNNを構築していきましょう。先ずは活性化関数を「relu」に設定してコンボリューション層を追加し、summaryを出力して下さい。※ヒント：output shapeの形からストライド（移動する幅）の数を推定しましょう。"
      ]
    },
    {
      "cell_type": "code",
      "execution_count": 59,
      "metadata": {
        "colab": {
          "base_uri": "https://localhost:8080/"
        },
        "id": "ijk1u47knFRG",
        "outputId": "f4a85bc2-6149-410d-e57d-1c2bc0aa8f83"
      },
      "outputs": [
        {
          "output_type": "stream",
          "name": "stdout",
          "text": [
            "Model: \"sequential_15\"\n",
            "_________________________________________________________________\n",
            " Layer (type)                Output Shape              Param #   \n",
            "=================================================================\n",
            " conv2d (Conv2D)             (None, 26, 26, 32)        320       \n",
            "                                                                 \n",
            "=================================================================\n",
            "Total params: 320\n",
            "Trainable params: 320\n",
            "Non-trainable params: 0\n",
            "_________________________________________________________________\n"
          ]
        }
      ],
      "source": [
        "model.add(layers.Conv2D(32,(3,3),activation='relu',input_shape=(28,28,1)))\n",
        "model.summary()"
      ]
    },
    {
      "cell_type": "markdown",
      "metadata": {
        "id": "dvOG540fnFRG"
      },
      "source": [
        "#### 4.4 CNNはコンボリューション層とプーリング層を交互に組み合わせます。プーリング層を追加し、summaryを出力して下さい。※ヒント：output shapeの形からpool_sizeの数を推定しましょう。"
      ]
    },
    {
      "cell_type": "code",
      "execution_count": 60,
      "metadata": {
        "colab": {
          "base_uri": "https://localhost:8080/"
        },
        "id": "2wsHpqRUnFRG",
        "outputId": "5ec2ed93-1f23-4517-be1a-fd5f2ee4d2bc"
      },
      "outputs": [
        {
          "output_type": "stream",
          "name": "stdout",
          "text": [
            "Model: \"sequential_15\"\n",
            "_________________________________________________________________\n",
            " Layer (type)                Output Shape              Param #   \n",
            "=================================================================\n",
            " conv2d (Conv2D)             (None, 26, 26, 32)        320       \n",
            "                                                                 \n",
            " max_pooling2d (MaxPooling2D  (None, 13, 13, 32)       0         \n",
            " )                                                               \n",
            "                                                                 \n",
            "=================================================================\n",
            "Total params: 320\n",
            "Trainable params: 320\n",
            "Non-trainable params: 0\n",
            "_________________________________________________________________\n"
          ]
        }
      ],
      "source": [
        "model.add(layers.MaxPooling2D(2,2))\n",
        "model.summary()"
      ]
    },
    {
      "cell_type": "markdown",
      "metadata": {
        "id": "5PdCB53KnFRG"
      },
      "source": [
        "#### 4.5 「4.3」と同じ要領でコンボリューション層を追加しましょう。"
      ]
    },
    {
      "cell_type": "code",
      "execution_count": 61,
      "metadata": {
        "colab": {
          "base_uri": "https://localhost:8080/"
        },
        "id": "2tggxdA7nFRG",
        "outputId": "8f9eb3c8-1777-419d-8460-5a175c829edf"
      },
      "outputs": [
        {
          "output_type": "stream",
          "name": "stdout",
          "text": [
            "Model: \"sequential_15\"\n",
            "_________________________________________________________________\n",
            " Layer (type)                Output Shape              Param #   \n",
            "=================================================================\n",
            " conv2d (Conv2D)             (None, 26, 26, 32)        320       \n",
            "                                                                 \n",
            " max_pooling2d (MaxPooling2D  (None, 13, 13, 32)       0         \n",
            " )                                                               \n",
            "                                                                 \n",
            " conv2d_1 (Conv2D)           (None, 11, 11, 32)        9248      \n",
            "                                                                 \n",
            "=================================================================\n",
            "Total params: 9,568\n",
            "Trainable params: 9,568\n",
            "Non-trainable params: 0\n",
            "_________________________________________________________________\n"
          ]
        }
      ],
      "source": [
        "model.add(layers.Conv2D(32,(3,3),activation='relu'))\n",
        "model.summary()"
      ]
    },
    {
      "cell_type": "markdown",
      "metadata": {
        "id": "8NMqyDWBnFRG"
      },
      "source": [
        "#### 4.6 コンボリューション層とプーリング層の出力が3次元であることが分かります。また画像のサイズ（高さ、幅）は層を経るにつれて、縮小していることが分かります。次の手順は3次元の出力をDense層に入力することですが、その前に1次元に変換する必要があります。1次元に変換する「変換層」を追加し、summaryの内容を確認して下さい。"
      ]
    },
    {
      "cell_type": "code",
      "execution_count": 62,
      "metadata": {
        "colab": {
          "base_uri": "https://localhost:8080/"
        },
        "id": "pbyqdab2nFRH",
        "outputId": "6e64db8c-1b1a-4769-f869-753fe81966cf"
      },
      "outputs": [
        {
          "output_type": "stream",
          "name": "stdout",
          "text": [
            "Model: \"sequential_15\"\n",
            "_________________________________________________________________\n",
            " Layer (type)                Output Shape              Param #   \n",
            "=================================================================\n",
            " conv2d (Conv2D)             (None, 26, 26, 32)        320       \n",
            "                                                                 \n",
            " max_pooling2d (MaxPooling2D  (None, 13, 13, 32)       0         \n",
            " )                                                               \n",
            "                                                                 \n",
            " conv2d_1 (Conv2D)           (None, 11, 11, 32)        9248      \n",
            "                                                                 \n",
            " flatten (Flatten)           (None, 3872)              0         \n",
            "                                                                 \n",
            "=================================================================\n",
            "Total params: 9,568\n",
            "Trainable params: 9,568\n",
            "Non-trainable params: 0\n",
            "_________________________________________________________________\n"
          ]
        }
      ],
      "source": [
        "model.add(layers.Flatten())\n",
        "model.summary()"
      ]
    },
    {
      "cell_type": "markdown",
      "metadata": {
        "id": "N8cLAPoxnFRH"
      },
      "source": [
        "#### 4.7 Dense層を追加した後、ソフトマックス関数を用いて、出力層を追加して下さい。"
      ]
    },
    {
      "cell_type": "code",
      "execution_count": 63,
      "metadata": {
        "id": "FWnVuoKhnFRH"
      },
      "outputs": [],
      "source": [
        "# model.add(layers.Dense(32,activation='softmax'))\n",
        "# model.summary"
      ]
    },
    {
      "cell_type": "code",
      "source": [
        "model.add(layers.Dense(32, activation='relu'))\n",
        "model.add(layers.Dense(10, activation='softmax'))\n",
        "model.summary()"
      ],
      "metadata": {
        "colab": {
          "base_uri": "https://localhost:8080/"
        },
        "id": "3eMQMyacuxOs",
        "outputId": "37a20a40-3473-41b8-8582-0918d2dcb853"
      },
      "execution_count": 64,
      "outputs": [
        {
          "output_type": "stream",
          "name": "stdout",
          "text": [
            "Model: \"sequential_15\"\n",
            "_________________________________________________________________\n",
            " Layer (type)                Output Shape              Param #   \n",
            "=================================================================\n",
            " conv2d (Conv2D)             (None, 26, 26, 32)        320       \n",
            "                                                                 \n",
            " max_pooling2d (MaxPooling2D  (None, 13, 13, 32)       0         \n",
            " )                                                               \n",
            "                                                                 \n",
            " conv2d_1 (Conv2D)           (None, 11, 11, 32)        9248      \n",
            "                                                                 \n",
            " flatten (Flatten)           (None, 3872)              0         \n",
            "                                                                 \n",
            " dense_41 (Dense)            (None, 32)                123936    \n",
            "                                                                 \n",
            " dense_42 (Dense)            (None, 10)                330       \n",
            "                                                                 \n",
            "=================================================================\n",
            "Total params: 133,834\n",
            "Trainable params: 133,834\n",
            "Non-trainable params: 0\n",
            "_________________________________________________________________\n"
          ]
        }
      ]
    },
    {
      "cell_type": "markdown",
      "metadata": {
        "id": "YJ6hVV3EnFRH"
      },
      "source": [
        "#### 4.8 「3.5」の条件でcompileを設定し、epochsは「4」、batch_sizeは「100」に設定して学習を行って下さい。"
      ]
    },
    {
      "cell_type": "code",
      "execution_count": 65,
      "metadata": {
        "id": "ajiLanPcnFRH"
      },
      "outputs": [],
      "source": [
        "# model.compile(optimizer='sgd',\n",
        "#               loss='categorical_crossentropy',\n",
        "#               metrics=['accuracy']))\n",
        "# history = model.fit(X_train,y_train, epochs=4, batch_size=100)"
      ]
    },
    {
      "cell_type": "code",
      "source": [
        "model.compile(optimizer='sgd',\n",
        "              loss='categorical_crossentropy',\n",
        "              metrics=['accuracy'])\n",
        "model.fit(X_train,y_train,epochs=4,batch_size=100)"
      ],
      "metadata": {
        "colab": {
          "base_uri": "https://localhost:8080/"
        },
        "id": "dRfeFH2uvSfH",
        "outputId": "67c72770-81c3-41c4-c280-582f92ab0600"
      },
      "execution_count": 66,
      "outputs": [
        {
          "output_type": "stream",
          "name": "stdout",
          "text": [
            "Epoch 1/4\n",
            "600/600 [==============================] - 36s 59ms/step - loss: 0.8648 - accuracy: 0.7354\n",
            "Epoch 2/4\n",
            "600/600 [==============================] - 35s 59ms/step - loss: 0.2932 - accuracy: 0.9122\n",
            "Epoch 3/4\n",
            "600/600 [==============================] - 35s 59ms/step - loss: 0.2316 - accuracy: 0.9311\n",
            "Epoch 4/4\n",
            "600/600 [==============================] - 35s 59ms/step - loss: 0.1887 - accuracy: 0.9440\n"
          ]
        },
        {
          "output_type": "execute_result",
          "data": {
            "text/plain": [
              "<keras.callbacks.History at 0x7f9de7ec53d0>"
            ]
          },
          "metadata": {},
          "execution_count": 66
        }
      ]
    },
    {
      "cell_type": "markdown",
      "metadata": {
        "id": "lOvW80lLnFRH"
      },
      "source": [
        "#### 4.9 CNNを使用することでかなりの高精度が実現できました。画像データは良い特徴量を内部で作り出せるCNNが適しています。最後に最適化手法の「rmsprop」を「4.8」と同様の条件で学習を行って下さい。※モデルは初期化して下さい。"
      ]
    },
    {
      "cell_type": "code",
      "execution_count": 67,
      "metadata": {
        "colab": {
          "base_uri": "https://localhost:8080/"
        },
        "id": "dOj2RgJqnFRH",
        "outputId": "02e94f8a-4abc-4e30-b95d-a59991075d77"
      },
      "outputs": [
        {
          "output_type": "stream",
          "name": "stdout",
          "text": [
            "Model: \"sequential_16\"\n",
            "_________________________________________________________________\n",
            " Layer (type)                Output Shape              Param #   \n",
            "=================================================================\n",
            " conv2d_2 (Conv2D)           (None, 26, 26, 32)        320       \n",
            "                                                                 \n",
            " max_pooling2d_1 (MaxPooling  (None, 13, 13, 32)       0         \n",
            " 2D)                                                             \n",
            "                                                                 \n",
            " conv2d_3 (Conv2D)           (None, 11, 11, 32)        9248      \n",
            "                                                                 \n",
            " flatten_1 (Flatten)         (None, 3872)              0         \n",
            "                                                                 \n",
            " dense_43 (Dense)            (None, 32)                123936    \n",
            "                                                                 \n",
            " dense_44 (Dense)            (None, 10)                330       \n",
            "                                                                 \n",
            "=================================================================\n",
            "Total params: 133,834\n",
            "Trainable params: 133,834\n",
            "Non-trainable params: 0\n",
            "_________________________________________________________________\n",
            "Epoch 1/4\n",
            "600/600 [==============================] - 37s 60ms/step - loss: 0.2105 - accuracy: 0.9356\n",
            "Epoch 2/4\n",
            "600/600 [==============================] - 37s 61ms/step - loss: 0.0620 - accuracy: 0.9817\n",
            "Epoch 3/4\n",
            "600/600 [==============================] - 37s 61ms/step - loss: 0.0433 - accuracy: 0.9871\n",
            "Epoch 4/4\n",
            "600/600 [==============================] - 36s 61ms/step - loss: 0.0318 - accuracy: 0.9904\n"
          ]
        },
        {
          "output_type": "execute_result",
          "data": {
            "text/plain": [
              "<keras.callbacks.History at 0x7f9de1bc0ed0>"
            ]
          },
          "metadata": {},
          "execution_count": 67
        }
      ],
      "source": [
        "from keras import layers\n",
        "from keras import models\n",
        "model = models.Sequential()\n",
        "model.add(layers.Conv2D(32,(3,3),activation='relu',input_shape=(28,28,1)))\n",
        "model.add(layers.MaxPooling2D(2,2))\n",
        "model.add(layers.Conv2D(32,(3,3),activation='relu'))\n",
        "model.add(layers.Flatten())\n",
        "model.add(layers.Dense(32, activation='relu'))\n",
        "model.add(layers.Dense(10, activation='softmax'))\n",
        "model.summary()\n",
        "model.compile(optimizer='rmsprop',\n",
        "              loss='categorical_crossentropy',\n",
        "              metrics=['accuracy'])\n",
        "model.fit(X_train,y_train,epochs=4,batch_size=100)"
      ]
    },
    {
      "cell_type": "markdown",
      "metadata": {
        "id": "1CwB9DvonFRH"
      },
      "source": [
        "#### 4.10 学習データに対して約99%程度正解率があるようです。「4.9」で作成したモデルで（X_test[0]）に対して予測結果を出力してみましょう。※「3.17」と数字を比較して見て下さい。"
      ]
    },
    {
      "cell_type": "code",
      "source": [
        "model.predict(X_test)[0]"
      ],
      "metadata": {
        "colab": {
          "base_uri": "https://localhost:8080/"
        },
        "id": "wZZHgZvl0SJu",
        "outputId": "bf5e5cb4-eee9-46fa-fe2e-423c1e5cf8a7"
      },
      "execution_count": 68,
      "outputs": [
        {
          "output_type": "execute_result",
          "data": {
            "text/plain": [
              "array([1.3719371e-10, 4.1615461e-10, 1.9639934e-08, 8.9348745e-08,\n",
              "       2.5012045e-12, 3.9029197e-11, 8.2580635e-16, 9.9999988e-01,\n",
              "       6.8923817e-10, 2.4152415e-08], dtype=float32)"
            ]
          },
          "metadata": {},
          "execution_count": 68
        }
      ]
    },
    {
      "cell_type": "markdown",
      "metadata": {
        "id": "gqSzwdMznFRH"
      },
      "source": [
        "#### 4.11 配列のままだと少し分かりづらいので、結果をグラフ化してみましょう。※ディープラーニングより「7」の値が1に近く、確信度が上がっていることが分かります。（より自信を持って「1」ということができている。）"
      ]
    },
    {
      "cell_type": "code",
      "source": [
        "pd.Series(model.predict(X_test)[0]).plot()"
      ],
      "metadata": {
        "colab": {
          "base_uri": "https://localhost:8080/",
          "height": 0
        },
        "id": "Ug_vg3Ye0pLx",
        "outputId": "5b3920ba-9372-454b-f212-a518345bcc71"
      },
      "execution_count": 69,
      "outputs": [
        {
          "output_type": "execute_result",
          "data": {
            "text/plain": [
              "<matplotlib.axes._subplots.AxesSubplot at 0x7f9de7e5a8d0>"
            ]
          },
          "metadata": {},
          "execution_count": 69
        },
        {
          "output_type": "display_data",
          "data": {
            "image/png": "[encoded data removed]",
            "text/plain": [
              "<Figure size 432x288 with 1 Axes>"
            ]
          },
          "metadata": {
            "needs_background": "light"
          }
        }
      ]
    },
    {
      "cell_type": "markdown",
      "metadata": {
        "id": "NWx-eA5wnFRH"
      },
      "source": [
        "#### 4.12 「7」と言う予測結果が出ています。「1.9」の方法で実際のデータの結果を確認してみましょう。"
      ]
    },
    {
      "cell_type": "code",
      "execution_count": 70,
      "metadata": {
        "id": "XQLX2RZgnFRH"
      },
      "outputs": [],
      "source": [
        "# plt.imshow(X_test[0], cmap='binary')"
      ]
    },
    {
      "cell_type": "code",
      "source": [
        "digit = X_test[0].reshape(28,28)\n",
        "plt.imshow(digit,cmap=plt.cm.binary)\n",
        "plt.show()"
      ],
      "metadata": {
        "colab": {
          "base_uri": "https://localhost:8080/",
          "height": 0
        },
        "id": "xwTftgco1FaC",
        "outputId": "e9388a38-d5ce-45c5-d02d-b1882b48ad7f"
      },
      "execution_count": 71,
      "outputs": [
        {
          "output_type": "display_data",
          "data": {
            "image/png": "[encoded data removed]",
            "text/plain": [
              "<Figure size 432x288 with 1 Axes>"
            ]
          },
          "metadata": {
            "needs_background": "light"
          }
        }
      ]
    },
    {
      "cell_type": "markdown",
      "metadata": {
        "id": "hd4BC0A6nFRH"
      },
      "source": [
        "#### 4.13 コンボリューション層で行っている処理のイメージを掴んでみましょう。下記の様な5×5の乱数行列を作成して下さい。※seedを0で固定して下さい。"
      ]
    },
    {
      "cell_type": "code",
      "execution_count": 72,
      "metadata": {
        "id": "_7ARpnpenFRH"
      },
      "outputs": [],
      "source": [
        "# np.random.seed(0)\n",
        "# data = np.random.rand(5,5)\n",
        "# data"
      ]
    },
    {
      "cell_type": "code",
      "source": [
        "np.random.seed(seed=0)\n",
        "img = np.random.random([5,5])\n",
        "img"
      ],
      "metadata": {
        "colab": {
          "base_uri": "https://localhost:8080/"
        },
        "id": "TfRZFyew1qOZ",
        "outputId": "13a2e229-e72f-4675-a4a3-559690934414"
      },
      "execution_count": 73,
      "outputs": [
        {
          "output_type": "execute_result",
          "data": {
            "text/plain": [
              "array([[0.5488135 , 0.71518937, 0.60276338, 0.54488318, 0.4236548 ],\n",
              "       [0.64589411, 0.43758721, 0.891773  , 0.96366276, 0.38344152],\n",
              "       [0.79172504, 0.52889492, 0.56804456, 0.92559664, 0.07103606],\n",
              "       [0.0871293 , 0.0202184 , 0.83261985, 0.77815675, 0.87001215],\n",
              "       [0.97861834, 0.79915856, 0.46147936, 0.78052918, 0.11827443]])"
            ]
          },
          "metadata": {},
          "execution_count": 73
        }
      ]
    },
    {
      "cell_type": "markdown",
      "metadata": {
        "id": "y5oGriKpnFRH"
      },
      "source": [
        "#### 4.14 コンボリューション層は画像データにカーネルをかけ合わせる（行列演算）を行うことで、畳み込まれた特徴を生成します。（特徴マップと言います）下記の様なカーネル（3×3の行列)を作成して下さい。※畳み込み操作を行う為のフィルタのことです。"
      ]
    },
    {
      "cell_type": "code",
      "execution_count": 74,
      "metadata": {
        "id": "vk1P-1RunFRH"
      },
      "outputs": [],
      "source": [
        "# data = np.array([[1,0,1],[0,1,0],[1,0,1]])\n",
        "# data"
      ]
    },
    {
      "cell_type": "code",
      "source": [
        "a = np.array([[1,0,1],[0,1,0],[1,0,1]])\n",
        "a"
      ],
      "metadata": {
        "colab": {
          "base_uri": "https://localhost:8080/"
        },
        "id": "v_ipVPmk26hF",
        "outputId": "d0c23a76-0e3a-4b6a-df8e-6fa1cb3c8462"
      },
      "execution_count": 75,
      "outputs": [
        {
          "output_type": "execute_result",
          "data": {
            "text/plain": [
              "array([[1, 0, 1],\n",
              "       [0, 1, 0],\n",
              "       [1, 0, 1]])"
            ]
          },
          "metadata": {},
          "execution_count": 75
        }
      ]
    },
    {
      "cell_type": "markdown",
      "metadata": {
        "id": "nJNR6LFmnFRH"
      },
      "source": [
        "#### 4.15 「4.14」で作成したカーネルを「4.13」の疑似画像データにかけ合わせて（行列演算）下記の様な特徴マップを出力して下さい。"
      ]
    },
    {
      "cell_type": "code",
      "execution_count": 76,
      "metadata": {
        "colab": {
          "base_uri": "https://localhost:8080/"
        },
        "id": "E_UI0TmmnFRH",
        "outputId": "5ee5eb73-ff84-4e2b-d095-73a46162cb1f"
      },
      "outputs": [
        {
          "output_type": "execute_result",
          "data": {
            "text/plain": [
              "array([[2.94893369, 3.60633711, 2.62916156],\n",
              "       [2.98631118, 2.76766968, 3.90344315],\n",
              "       [2.8200857 , 3.86679914, 1.99699116]])"
            ]
          },
          "metadata": {},
          "execution_count": 76
        }
      ],
      "source": [
        "def conv2(X, k):\n",
        "    x_row, x_col = X.shape\n",
        "    k_row, k_col = k.shape\n",
        "    ret_row, ret_col = x_row - k_row + 1, x_col - k_col + 1\n",
        "    # emptyで空の配列を作成\n",
        "    ret = np.empty((ret_row, ret_col))\n",
        "    for y in range(ret_row):\n",
        "        for x in range(ret_col):\n",
        "            sub = X[y : y + k_row, x : x + k_col]\n",
        "            ret[y,x] = np.sum(sub * k)\n",
        "    return ret\n",
        "\n",
        "conv2(img,a)"
      ]
    },
    {
      "cell_type": "markdown",
      "metadata": {
        "id": "ih2psutinFRH"
      },
      "source": [
        "#### 4.16 プーリング層のイメージを掴んでみましょう。4.13と同じ、5×5の乱数行列を作成して下さい。※seedを0で固定して下さい。"
      ]
    },
    {
      "cell_type": "code",
      "execution_count": 77,
      "metadata": {
        "colab": {
          "base_uri": "https://localhost:8080/"
        },
        "id": "G2unXlm2nFRH",
        "outputId": "8f1d3edd-413e-4412-f57c-222360380e62"
      },
      "outputs": [
        {
          "output_type": "execute_result",
          "data": {
            "text/plain": [
              "array([[0.5488135 , 0.71518937, 0.60276338, 0.54488318, 0.4236548 ],\n",
              "       [0.64589411, 0.43758721, 0.891773  , 0.96366276, 0.38344152],\n",
              "       [0.79172504, 0.52889492, 0.56804456, 0.92559664, 0.07103606],\n",
              "       [0.0871293 , 0.0202184 , 0.83261985, 0.77815675, 0.87001215],\n",
              "       [0.97861834, 0.79915856, 0.46147936, 0.78052918, 0.11827443]])"
            ]
          },
          "metadata": {},
          "execution_count": 77
        }
      ],
      "source": [
        "np.random.seed(seed=0)\n",
        "img = np.random.random([5,5])\n",
        "img"
      ]
    },
    {
      "cell_type": "markdown",
      "metadata": {
        "id": "UU6eztFQnFRH"
      },
      "source": [
        "#### 4.17 下記の様な2×2の少領域毎に、最大の値を選択し、4×4の正方行列を作成して下さい。※Pooling層は大抵、Convolutoin層の後に適用されます。役割としては入力データをより扱いやすい形に変形するために、情報を圧縮することが目的です。「max_pooling」と呼ばれる処理になります。"
      ]
    },
    {
      "cell_type": "code",
      "execution_count": 78,
      "metadata": {
        "colab": {
          "base_uri": "https://localhost:8080/"
        },
        "id": "rQNuRuHinFRI",
        "outputId": "0dd86a32-f67d-45e8-bd3d-c6063ddbd199"
      },
      "outputs": [
        {
          "output_type": "execute_result",
          "data": {
            "text/plain": [
              "array([[0.71518934, 0.891773  , 0.96366274, 0.96366274],\n",
              "       [0.79172504, 0.891773  , 0.96366274, 0.96366274],\n",
              "       [0.79172504, 0.83261985, 0.92559665, 0.92559665],\n",
              "       [0.9786183 , 0.83261985, 0.83261985, 0.87001216]], dtype=float32)"
            ]
          },
          "metadata": {},
          "execution_count": 78
        }
      ],
      "source": [
        "out = np.zeros((4,4),dtype=np.float32)\n",
        "\n",
        "for y in range(out.shape[0]):\n",
        "    for x in range(out.shape[1]):\n",
        "        out[y,x] = np.max(img[y:y+2,x:x+2])\n",
        "out"
      ]
    },
    {
      "cell_type": "markdown",
      "metadata": {
        "id": "wH5dLEPYnFRI"
      },
      "source": [
        "### 5. RNNについて学習します"
      ]
    },
    {
      "cell_type": "markdown",
      "metadata": {
        "id": "rPXEMuZvnFRI"
      },
      "source": [
        "#### 5.0 事前準備　下記コードを読み込んで下さい。"
      ]
    },
    {
      "cell_type": "code",
      "execution_count": 79,
      "metadata": {
        "colab": {
          "base_uri": "https://localhost:8080/",
          "height": 305
        },
        "id": "Qcn0tXgWnFRI",
        "outputId": "71dcf86d-8b13-4a0a-d0b9-f59bbb7c0aa6"
      },
      "outputs": [
        {
          "output_type": "stream",
          "name": "stdout",
          "text": [
            "Downloading data from https://storage.googleapis.com/tensorflow/tf-keras-datasets/imdb.npz\n",
            "17465344/17464789 [==============================] - 0s 0us/step\n",
            "17473536/17464789 [==============================] - 0s 0us/step\n",
            "Downloading data from https://storage.googleapis.com/tensorflow/tf-keras-datasets/imdb_word_index.json\n",
            "1646592/1641221 [==============================] - 0s 0us/step\n",
            "1654784/1641221 [==============================] - 0s 0us/step\n"
          ]
        },
        {
          "output_type": "execute_result",
          "data": {
            "application/vnd.google.colaboratory.intrinsic+json": {
              "type": "string"
            },
            "text/plain": [
              "\"? this film was just brilliant casting location scenery story direction everyone's really suited the part they played and you could just imagine being there robert ? is an amazing actor and now the same being director ? father came from the same scottish island as myself so i loved the fact there was a real connection with this film the witty remarks throughout the film were great it was just brilliant so much that i bought the film as soon as it was released for ? and would recommend it to everyone to watch and the fly fishing was amazing really cried at the end it was so sad and you know what they say if you cry at a film it must have been good and this definitely was also ? to the two little boy's that played the ? of norman and paul they were just brilliant children are often left out of the ? list i think because the stars that play them all grown up are such a big profile for the whole film but these children are amazing and should be praised for what they have done don't you think the whole story was so lovely because it was true and was someone's life after all that was shared with us all\""
            ]
          },
          "metadata": {},
          "execution_count": 79
        }
      ],
      "source": [
        "# 頻度順位10000語までを指定\n",
        "from keras.datasets import imdb\n",
        "(X_train,y_train),(X_test,y_test) = imdb.load_data(num_words=10000)\n",
        "\n",
        "# 元データのレビュー内容は例えば以下の様なデータが格納されています。\n",
        "def decode_review(num):\n",
        "    word_index = imdb.get_word_index()\n",
        "    reversed_word_index = dict(\n",
        "        [value, key] for (key, value) in word_index.items())\n",
        "\n",
        "    decoded_review = ' '.join([reversed_word_index.get(i-3, '?') for i in X_train[num]])\n",
        "    \n",
        "    return decoded_review\n",
        "\n",
        "decode_review(0)"
      ]
    },
    {
      "cell_type": "markdown",
      "metadata": {
        "id": "9MTaRn0FnFRI"
      },
      "source": [
        "#### 5.1 学習データ、検証データのデータ型を調べてみましょう。"
      ]
    },
    {
      "cell_type": "code",
      "execution_count": 80,
      "metadata": {
        "colab": {
          "base_uri": "https://localhost:8080/"
        },
        "id": "2JqYquHxnFRI",
        "outputId": "fd1e865a-3904-4ddc-f7c1-ea1da5b1e24b"
      },
      "outputs": [
        {
          "output_type": "stream",
          "name": "stdout",
          "text": [
            "X_train (25000,)\n",
            "X_test (25000,)\n",
            "y_train (25000,)\n",
            "y_test (25000,)\n"
          ]
        }
      ],
      "source": [
        "print(\"X_train\",X_train.shape)\n",
        "print(\"X_test\",X_test.shape)\n",
        "print(\"y_train\",y_train.shape)\n",
        "print(\"y_test\",y_test.shape)"
      ]
    },
    {
      "cell_type": "markdown",
      "metadata": {
        "id": "xyyLAk6DnFRI"
      },
      "source": [
        "#### 5.2 それぞれ25000行のデータが格納されている様です。学習データ「X_train[0]とX_train[1]」の中身を確認してみましょう。それぞれ「行数（単語数）」、「最大値」、「最小値」、「ユニーク数」を出力して下さい。"
      ]
    },
    {
      "cell_type": "code",
      "execution_count": 81,
      "metadata": {
        "colab": {
          "base_uri": "https://localhost:8080/"
        },
        "id": "HwCEkjeHnFRI",
        "outputId": "c0cc641d-25d0-46bb-bcd8-8e9bf7a6cd5d"
      },
      "outputs": [
        {
          "output_type": "stream",
          "name": "stdout",
          "text": [
            "X_train[0]行数 218\n",
            "X_train[0]最大値 7486\n",
            "X_train[0]最小値 1\n",
            "X_train[0]ユニーク数 120\n",
            "X_train[1]行数 189\n",
            "X_train[1]最大値 9837\n",
            "X_train[1]最小値 1\n",
            "X_train[1]ユニーク数 121\n"
          ]
        }
      ],
      "source": [
        "print(\"X_train[0]行数\",len(X_train[0]))\n",
        "print(\"X_train[0]最大値\",np.array(X_train[0]).max())\n",
        "print(\"X_train[0]最小値\",np.array(X_train[0]).min())\n",
        "print(\"X_train[0]ユニーク数\",pd.Series(X_train[0]).nunique())\n",
        "print(\"X_train[1]行数\",len(X_train[1]))\n",
        "print(\"X_train[1]最大値\",np.array(X_train[1]).max())\n",
        "print(\"X_train[1]最小値\",np.array(X_train[1]).min())\n",
        "print(\"X_train[1]ユニーク数\",pd.Series(X_train[1]).nunique())"
      ]
    },
    {
      "cell_type": "markdown",
      "metadata": {
        "id": "ZewcUwcCnFRI"
      },
      "source": [
        "#### 5.3 同様に学習データ（y_train）の中身を確認してみましょう。「行数」、「最大値」、「最小値」、「ユニーク数」を出力して下さい。"
      ]
    },
    {
      "cell_type": "code",
      "execution_count": 82,
      "metadata": {
        "colab": {
          "base_uri": "https://localhost:8080/"
        },
        "id": "RiFQONXqnFRI",
        "outputId": "79d12da9-43d3-405b-a0d4-9ed3b09bb392"
      },
      "outputs": [
        {
          "output_type": "stream",
          "name": "stdout",
          "text": [
            "行数 25000\n",
            "最大値 1\n",
            "最小値 0\n",
            "ユニーク数 2\n"
          ]
        }
      ],
      "source": [
        "print(\"行数\",len(y_train))\n",
        "print(\"最大値\",np.array(y_train).max())\n",
        "print(\"最小値\",np.array(y_train).min())\n",
        "print(\"ユニーク数\",pd.Series(y_train).nunique())"
      ]
    },
    {
      "cell_type": "markdown",
      "metadata": {
        "id": "SA7dmvcHnFRI"
      },
      "source": [
        "#### 5.4 今回のデータは各レビューに対し、「0」か「1」の教師データが対応しているようです。そして、各レビュー内の単語に対し出現頻度の順位が数値として、各単語に割り当てられています。学習データの「行数」が異なるので揃えていきましょう。今回は「500」で設定して下さい。※ヒント：preprocessingのモジュールのsequenceを使用します。"
      ]
    },
    {
      "cell_type": "code",
      "execution_count": 83,
      "metadata": {
        "colab": {
          "base_uri": "https://localhost:8080/"
        },
        "id": "LW0YQp6QnFRJ",
        "outputId": "66fe3ae3-7273-4685-e982-2137d2df1aaa"
      },
      "outputs": [
        {
          "output_type": "stream",
          "name": "stdout",
          "text": [
            "X_train (25000, 500)\n",
            "X_test (25000, 500)\n",
            "X_train[0] [   0    0    0    0    0    0    0    0    0    0    0    0    0    0\n",
            "    0    0    0    0    0    0    0    0    0    0    0    0    0    0\n",
            "    0    0    0    0    0    0    0    0    0    0    0    0    0    0\n",
            "    0    0    0    0    0    0    0    0    0    0    0    0    0    0\n",
            "    0    0    0    0    0    0    0    0    0    0    0    0    0    0\n",
            "    0    0    0    0    0    0    0    0    0    0    0    0    0    0\n",
            "    0    0    0    0    0    0    0    0    0    0    0    0    0    0\n",
            "    0    0    0    0    0    0    0    0    0    0    0    0    0    0\n",
            "    0    0    0    0    0    0    0    0    0    0    0    0    0    0\n",
            "    0    0    0    0    0    0    0    0    0    0    0    0    0    0\n",
            "    0    0    0    0    0    0    0    0    0    0    0    0    0    0\n",
            "    0    0    0    0    0    0    0    0    0    0    0    0    0    0\n",
            "    0    0    0    0    0    0    0    0    0    0    0    0    0    0\n",
            "    0    0    0    0    0    0    0    0    0    0    0    0    0    0\n",
            "    0    0    0    0    0    0    0    0    0    0    0    0    0    0\n",
            "    0    0    0    0    0    0    0    0    0    0    0    0    0    0\n",
            "    0    0    0    0    0    0    0    0    0    0    0    0    0    0\n",
            "    0    0    0    0    0    0    0    0    0    0    0    0    0    0\n",
            "    0    0    0    0    0    0    0    0    0    0    0    0    0    0\n",
            "    0    0    0    0    0    0    0    0    0    0    0    0    0    0\n",
            "    0    0    1   14   22   16   43  530  973 1622 1385   65  458 4468\n",
            "   66 3941    4  173   36  256    5   25  100   43  838  112   50  670\n",
            "    2    9   35  480  284    5  150    4  172  112  167    2  336  385\n",
            "   39    4  172 4536 1111   17  546   38   13  447    4  192   50   16\n",
            "    6  147 2025   19   14   22    4 1920 4613  469    4   22   71   87\n",
            "   12   16   43  530   38   76   15   13 1247    4   22   17  515   17\n",
            "   12   16  626   18    2    5   62  386   12    8  316    8  106    5\n",
            "    4 2223 5244   16  480   66 3785   33    4  130   12   16   38  619\n",
            "    5   25  124   51   36  135   48   25 1415   33    6   22   12  215\n",
            "   28   77   52    5   14  407   16   82    2    8    4  107  117 5952\n",
            "   15  256    4    2    7 3766    5  723   36   71   43  530  476   26\n",
            "  400  317   46    7    4    2 1029   13  104   88    4  381   15  297\n",
            "   98   32 2071   56   26  141    6  194 7486   18    4  226   22   21\n",
            "  134  476   26  480    5  144   30 5535   18   51   36   28  224   92\n",
            "   25  104    4  226   65   16   38 1334   88   12   16  283    5   16\n",
            " 4472  113  103   32   15   16 5345   19  178   32]\n"
          ]
        }
      ],
      "source": [
        "from keras.preprocessing import sequence\n",
        "# pad_sequencesで行数の長さを揃える。\n",
        "X_train = sequence.pad_sequences(X_train, maxlen=500)\n",
        "X_test = sequence.pad_sequences(X_test, maxlen=500)\n",
        "print('X_train',X_train.shape)\n",
        "print('X_test',X_test.shape)\n",
        "print('X_train[0]',X_train[0])"
      ]
    },
    {
      "cell_type": "markdown",
      "metadata": {
        "id": "jdHLsOzCnFRJ"
      },
      "source": [
        "#### 5.5 説明変数のサイズが揃い、準備は整いました。現在扱っている「テキストデータ」や「時系列データ等」、データの「順序」に意味があるデータに関しては、一般的なディープラーニングやCNNより、RNNのほうが適しています。それでは、RNNを実装してみましょう。layersクラスから「Embedding」、「SimpleRNN」を読み込んで下さい。"
      ]
    },
    {
      "cell_type": "code",
      "execution_count": 87,
      "metadata": {
        "colab": {
          "base_uri": "https://localhost:8080/"
        },
        "id": "37aJDTctnFRJ",
        "outputId": "4f7b8ada-6222-4486-cfd2-8f3e44c82cf9"
      },
      "outputs": [
        {
          "output_type": "stream",
          "name": "stdout",
          "text": [
            "<class 'keras.layers.embeddings.Embedding'>\n",
            "<class 'keras.layers.recurrent.SimpleRNN'>\n"
          ]
        }
      ],
      "source": [
        "from keras.layers import Embedding,SimpleRNN\n",
        "print(Embedding)\n",
        "print(SimpleRNN)"
      ]
    },
    {
      "cell_type": "markdown",
      "metadata": {
        "id": "rdHT8lusnFRJ"
      },
      "source": [
        "#### 5.6 Sequentialのクラスを読み込み、modelという変数に格納して下さい。※モデルが初期化されます。"
      ]
    },
    {
      "cell_type": "code",
      "execution_count": 83,
      "metadata": {
        "id": "m-rpYoLBnFRJ"
      },
      "outputs": [],
      "source": [
        "# from keras import Sequential\n",
        "# model = Sequential()"
      ]
    },
    {
      "cell_type": "code",
      "source": [
        "model = Sequential()\n",
        "model"
      ],
      "metadata": {
        "id": "mBdkKp6os-PR",
        "outputId": "75d388dd-2284-4d9e-ca98-b0f2390d9ab1",
        "colab": {
          "base_uri": "https://localhost:8080/"
        }
      },
      "execution_count": 85,
      "outputs": [
        {
          "output_type": "execute_result",
          "data": {
            "text/plain": [
              "<keras.engine.sequential.Sequential at 0x7f9de7ecaf10>"
            ]
          },
          "metadata": {},
          "execution_count": 85
        }
      ]
    },
    {
      "cell_type": "markdown",
      "metadata": {
        "id": "aEPiS1YynFRJ"
      },
      "source": [
        "#### 5.7 Embedding層を追加して下さい。Embeddingとは単語や文を固定のベクトルに置き換える処理のことです。出力数は「10」を設定しましょう。※Embeddingは本来は特徴量エンジニアリングに分類されます。"
      ]
    },
    {
      "cell_type": "code",
      "execution_count": 88,
      "metadata": {
        "colab": {
          "base_uri": "https://localhost:8080/"
        },
        "id": "bSGkZyZknFRJ",
        "outputId": "f333eb4e-6889-42e8-aa83-f301e4c9f098"
      },
      "outputs": [
        {
          "output_type": "stream",
          "name": "stdout",
          "text": [
            "Model: \"sequential_17\"\n",
            "_________________________________________________________________\n",
            " Layer (type)                Output Shape              Param #   \n",
            "=================================================================\n",
            " embedding (Embedding)       (None, None, 10)          100000    \n",
            "                                                                 \n",
            "=================================================================\n",
            "Total params: 100,000\n",
            "Trainable params: 100,000\n",
            "Non-trainable params: 0\n",
            "_________________________________________________________________\n"
          ]
        }
      ],
      "source": [
        "# max_featureは10000\n",
        "model.add(Embedding(10000,10))\n",
        "model.summary()"
      ]
    },
    {
      "cell_type": "markdown",
      "metadata": {
        "id": "suyJf7o0nFRJ"
      },
      "source": [
        "#### 5.8 RNN層を追加して下さい。"
      ]
    },
    {
      "cell_type": "code",
      "execution_count": 89,
      "metadata": {
        "colab": {
          "base_uri": "https://localhost:8080/"
        },
        "id": "mFaK-K0ZnFRJ",
        "outputId": "1229c9ce-8f89-4566-90f6-bde896464978"
      },
      "outputs": [
        {
          "output_type": "stream",
          "name": "stdout",
          "text": [
            "Model: \"sequential_17\"\n",
            "_________________________________________________________________\n",
            " Layer (type)                Output Shape              Param #   \n",
            "=================================================================\n",
            " embedding (Embedding)       (None, None, 10)          100000    \n",
            "                                                                 \n",
            " simple_rnn (SimpleRNN)      (None, 30)                1230      \n",
            "                                                                 \n",
            "=================================================================\n",
            "Total params: 101,230\n",
            "Trainable params: 101,230\n",
            "Non-trainable params: 0\n",
            "_________________________________________________________________\n"
          ]
        }
      ],
      "source": [
        "model.add(SimpleRNN(30))\n",
        "model.summary()"
      ]
    },
    {
      "cell_type": "markdown",
      "metadata": {
        "id": "4RQAHjsXnFRJ"
      },
      "source": [
        "#### 5.9 出力層を追加しましょう。活性化関数はシグモイドを設定して下さい。"
      ]
    },
    {
      "cell_type": "code",
      "execution_count": 90,
      "metadata": {
        "colab": {
          "base_uri": "https://localhost:8080/"
        },
        "id": "lETv1BvanFRJ",
        "outputId": "156e7b9d-6a35-4f1b-9311-6740ef347855"
      },
      "outputs": [
        {
          "output_type": "stream",
          "name": "stdout",
          "text": [
            "Model: \"sequential_17\"\n",
            "_________________________________________________________________\n",
            " Layer (type)                Output Shape              Param #   \n",
            "=================================================================\n",
            " embedding (Embedding)       (None, None, 10)          100000    \n",
            "                                                                 \n",
            " simple_rnn (SimpleRNN)      (None, 30)                1230      \n",
            "                                                                 \n",
            " dense_45 (Dense)            (None, 1)                 31        \n",
            "                                                                 \n",
            "=================================================================\n",
            "Total params: 101,261\n",
            "Trainable params: 101,261\n",
            "Non-trainable params: 0\n",
            "_________________________________________________________________\n"
          ]
        }
      ],
      "source": [
        "model.add(Dense(1,activation='sigmoid'))\n",
        "model.summary()"
      ]
    },
    {
      "cell_type": "markdown",
      "metadata": {
        "id": "shCHGMv6nFRJ"
      },
      "source": [
        "#### 5.10 compileの設定をしましょう。最適化関数を「rmsprop」を選択して下さい。誤差関数を「binary_crossentoropy」で設定し、metricsは「正解率」を設定してみましょう。※何を目的として重みを更新指定行くかを決定している部分になります。"
      ]
    },
    {
      "cell_type": "code",
      "execution_count": 83,
      "metadata": {
        "id": "TcckjGdZnFRJ"
      },
      "outputs": [],
      "source": [
        "# model.compile(optimizer='rmsprop',loss='binary_crassentoropy',metrics='accuracy')"
      ]
    },
    {
      "cell_type": "code",
      "source": [
        "model.compile(optimizer='rmsprop',\n",
        "             loss='binary_crossentropy',\n",
        "             metrics=['acc'])"
      ],
      "metadata": {
        "id": "9KSFr3TjvOOf"
      },
      "execution_count": 91,
      "outputs": []
    },
    {
      "cell_type": "markdown",
      "metadata": {
        "id": "rGyN3sNxnFRJ"
      },
      "source": [
        "#### 5.11 エポック数は「4」、バッチサイズは「100」、validation_splitを「0.2」に設定して学習を開始して下さい。"
      ]
    },
    {
      "cell_type": "code",
      "execution_count": 92,
      "metadata": {
        "colab": {
          "base_uri": "https://localhost:8080/"
        },
        "id": "WdAnCz0pnFRJ",
        "outputId": "1689b0fa-63d4-4f3f-ad3e-26f8bc10f90c"
      },
      "outputs": [
        {
          "output_type": "stream",
          "name": "stdout",
          "text": [
            "Epoch 1/4\n",
            "200/200 [==============================] - 24s 114ms/step - loss: 0.5975 - acc: 0.6646 - val_loss: 0.5354 - val_acc: 0.7318\n",
            "Epoch 2/4\n",
            "200/200 [==============================] - 23s 113ms/step - loss: 0.3795 - acc: 0.8402 - val_loss: 0.3559 - val_acc: 0.8538\n",
            "Epoch 3/4\n",
            "200/200 [==============================] - 23s 113ms/step - loss: 0.3081 - acc: 0.8763 - val_loss: 0.3610 - val_acc: 0.8414\n",
            "Epoch 4/4\n",
            "200/200 [==============================] - 22s 112ms/step - loss: 0.2720 - acc: 0.8934 - val_loss: 0.3457 - val_acc: 0.8532\n"
          ]
        }
      ],
      "source": [
        "history = model.fit(X_train,y_train,epochs=4,batch_size=100,validation_split=0.2)"
      ]
    },
    {
      "cell_type": "markdown",
      "metadata": {
        "id": "O3wvLCsknFRJ"
      },
      "source": [
        "#### 5.12 「学習データ(acc)」、「検証データ(val_acc)」の精度をエポック毎にグラフを表示して下さい。"
      ]
    },
    {
      "cell_type": "code",
      "execution_count": 98,
      "metadata": {
        "colab": {
          "base_uri": "https://localhost:8080/",
          "height": 607
        },
        "id": "0D3gPSqonFRJ",
        "outputId": "af07d336-cdbc-46ba-aeee-68b2fb39f634"
      },
      "outputs": [
        {
          "output_type": "error",
          "ename": "ValueError",
          "evalue": "ignored",
          "traceback": [
            "\u001b[0;31m---------------------------------------------------------------------------\u001b[0m",
            "\u001b[0;31mValueError\u001b[0m                                Traceback (most recent call last)",
            "\u001b[0;32m<ipython-input-98-2ec50bd9815e>\u001b[0m in \u001b[0;36m<module>\u001b[0;34m()\u001b[0m\n\u001b[0;32m----> 1\u001b[0;31m \u001b[0mplt\u001b[0m\u001b[0;34m.\u001b[0m\u001b[0mscatter\u001b[0m\u001b[0;34m(\u001b[0m\u001b[0mhistory\u001b[0m\u001b[0;34m.\u001b[0m\u001b[0mhistory\u001b[0m\u001b[0;34m[\u001b[0m\u001b[0;34m'acc'\u001b[0m\u001b[0;34m]\u001b[0m\u001b[0;34m,\u001b[0m\u001b[0mmodel\u001b[0m\u001b[0;34m)\u001b[0m\u001b[0;34m\u001b[0m\u001b[0;34m\u001b[0m\u001b[0m\n\u001b[0m\u001b[1;32m      2\u001b[0m \u001b[0mplt\u001b[0m\u001b[0;34m.\u001b[0m\u001b[0mlegend\u001b[0m\u001b[0;34m(\u001b[0m\u001b[0;34m)\u001b[0m\u001b[0;34m\u001b[0m\u001b[0;34m\u001b[0m\u001b[0m\n\u001b[1;32m      3\u001b[0m \u001b[0mplt\u001b[0m\u001b[0;34m.\u001b[0m\u001b[0mshow\u001b[0m\u001b[0;34m(\u001b[0m\u001b[0;34m)\u001b[0m\u001b[0;34m\u001b[0m\u001b[0;34m\u001b[0m\u001b[0m\n",
            "\u001b[0;32m/usr/local/lib/python3.7/dist-packages/matplotlib/pyplot.py\u001b[0m in \u001b[0;36mscatter\u001b[0;34m(x, y, s, c, marker, cmap, norm, vmin, vmax, alpha, linewidths, verts, edgecolors, plotnonfinite, data, **kwargs)\u001b[0m\n\u001b[1;32m   2814\u001b[0m         \u001b[0mverts\u001b[0m\u001b[0;34m=\u001b[0m\u001b[0mverts\u001b[0m\u001b[0;34m,\u001b[0m \u001b[0medgecolors\u001b[0m\u001b[0;34m=\u001b[0m\u001b[0medgecolors\u001b[0m\u001b[0;34m,\u001b[0m\u001b[0;34m\u001b[0m\u001b[0;34m\u001b[0m\u001b[0m\n\u001b[1;32m   2815\u001b[0m         plotnonfinite=plotnonfinite, **({\"data\": data} if data is not\n\u001b[0;32m-> 2816\u001b[0;31m         None else {}), **kwargs)\n\u001b[0m\u001b[1;32m   2817\u001b[0m     \u001b[0msci\u001b[0m\u001b[0;34m(\u001b[0m\u001b[0m__ret\u001b[0m\u001b[0;34m)\u001b[0m\u001b[0;34m\u001b[0m\u001b[0;34m\u001b[0m\u001b[0m\n\u001b[1;32m   2818\u001b[0m     \u001b[0;32mreturn\u001b[0m \u001b[0m__ret\u001b[0m\u001b[0;34m\u001b[0m\u001b[0;34m\u001b[0m\u001b[0m\n",
            "\u001b[0;32m/usr/local/lib/python3.7/dist-packages/matplotlib/__init__.py\u001b[0m in \u001b[0;36minner\u001b[0;34m(ax, data, *args, **kwargs)\u001b[0m\n\u001b[1;32m   1563\u001b[0m     \u001b[0;32mdef\u001b[0m \u001b[0minner\u001b[0m\u001b[0;34m(\u001b[0m\u001b[0max\u001b[0m\u001b[0;34m,\u001b[0m \u001b[0;34m*\u001b[0m\u001b[0margs\u001b[0m\u001b[0;34m,\u001b[0m \u001b[0mdata\u001b[0m\u001b[0;34m=\u001b[0m\u001b[0;32mNone\u001b[0m\u001b[0;34m,\u001b[0m \u001b[0;34m**\u001b[0m\u001b[0mkwargs\u001b[0m\u001b[0;34m)\u001b[0m\u001b[0;34m:\u001b[0m\u001b[0;34m\u001b[0m\u001b[0;34m\u001b[0m\u001b[0m\n\u001b[1;32m   1564\u001b[0m         \u001b[0;32mif\u001b[0m \u001b[0mdata\u001b[0m \u001b[0;32mis\u001b[0m \u001b[0;32mNone\u001b[0m\u001b[0;34m:\u001b[0m\u001b[0;34m\u001b[0m\u001b[0;34m\u001b[0m\u001b[0m\n\u001b[0;32m-> 1565\u001b[0;31m             \u001b[0;32mreturn\u001b[0m \u001b[0mfunc\u001b[0m\u001b[0;34m(\u001b[0m\u001b[0max\u001b[0m\u001b[0;34m,\u001b[0m \u001b[0;34m*\u001b[0m\u001b[0mmap\u001b[0m\u001b[0;34m(\u001b[0m\u001b[0msanitize_sequence\u001b[0m\u001b[0;34m,\u001b[0m \u001b[0margs\u001b[0m\u001b[0;34m)\u001b[0m\u001b[0;34m,\u001b[0m \u001b[0;34m**\u001b[0m\u001b[0mkwargs\u001b[0m\u001b[0;34m)\u001b[0m\u001b[0;34m\u001b[0m\u001b[0;34m\u001b[0m\u001b[0m\n\u001b[0m\u001b[1;32m   1566\u001b[0m \u001b[0;34m\u001b[0m\u001b[0m\n\u001b[1;32m   1567\u001b[0m         \u001b[0mbound\u001b[0m \u001b[0;34m=\u001b[0m \u001b[0mnew_sig\u001b[0m\u001b[0;34m.\u001b[0m\u001b[0mbind\u001b[0m\u001b[0;34m(\u001b[0m\u001b[0max\u001b[0m\u001b[0;34m,\u001b[0m \u001b[0;34m*\u001b[0m\u001b[0margs\u001b[0m\u001b[0;34m,\u001b[0m \u001b[0;34m**\u001b[0m\u001b[0mkwargs\u001b[0m\u001b[0;34m)\u001b[0m\u001b[0;34m\u001b[0m\u001b[0;34m\u001b[0m\u001b[0m\n",
            "\u001b[0;32m/usr/local/lib/python3.7/dist-packages/matplotlib/cbook/deprecation.py\u001b[0m in \u001b[0;36mwrapper\u001b[0;34m(*args, **kwargs)\u001b[0m\n\u001b[1;32m    356\u001b[0m                 \u001b[0;34mf\"%(removal)s.  If any parameter follows {name!r}, they \"\u001b[0m\u001b[0;34m\u001b[0m\u001b[0;34m\u001b[0m\u001b[0m\n\u001b[1;32m    357\u001b[0m                 f\"should be pass as keyword, not positionally.\")\n\u001b[0;32m--> 358\u001b[0;31m         \u001b[0;32mreturn\u001b[0m \u001b[0mfunc\u001b[0m\u001b[0;34m(\u001b[0m\u001b[0;34m*\u001b[0m\u001b[0margs\u001b[0m\u001b[0;34m,\u001b[0m \u001b[0;34m**\u001b[0m\u001b[0mkwargs\u001b[0m\u001b[0;34m)\u001b[0m\u001b[0;34m\u001b[0m\u001b[0;34m\u001b[0m\u001b[0m\n\u001b[0m\u001b[1;32m    359\u001b[0m \u001b[0;34m\u001b[0m\u001b[0m\n\u001b[1;32m    360\u001b[0m     \u001b[0;32mreturn\u001b[0m \u001b[0mwrapper\u001b[0m\u001b[0;34m\u001b[0m\u001b[0;34m\u001b[0m\u001b[0m\n",
            "\u001b[0;32m/usr/local/lib/python3.7/dist-packages/matplotlib/axes/_axes.py\u001b[0m in \u001b[0;36mscatter\u001b[0;34m(self, x, y, s, c, marker, cmap, norm, vmin, vmax, alpha, linewidths, verts, edgecolors, plotnonfinite, **kwargs)\u001b[0m\n\u001b[1;32m   4389\u001b[0m         \u001b[0my\u001b[0m \u001b[0;34m=\u001b[0m \u001b[0mnp\u001b[0m\u001b[0;34m.\u001b[0m\u001b[0mma\u001b[0m\u001b[0;34m.\u001b[0m\u001b[0mravel\u001b[0m\u001b[0;34m(\u001b[0m\u001b[0my\u001b[0m\u001b[0;34m)\u001b[0m\u001b[0;34m\u001b[0m\u001b[0;34m\u001b[0m\u001b[0m\n\u001b[1;32m   4390\u001b[0m         \u001b[0;32mif\u001b[0m \u001b[0mx\u001b[0m\u001b[0;34m.\u001b[0m\u001b[0msize\u001b[0m \u001b[0;34m!=\u001b[0m \u001b[0my\u001b[0m\u001b[0;34m.\u001b[0m\u001b[0msize\u001b[0m\u001b[0;34m:\u001b[0m\u001b[0;34m\u001b[0m\u001b[0;34m\u001b[0m\u001b[0m\n\u001b[0;32m-> 4391\u001b[0;31m             \u001b[0;32mraise\u001b[0m \u001b[0mValueError\u001b[0m\u001b[0;34m(\u001b[0m\u001b[0;34m\"x and y must be the same size\"\u001b[0m\u001b[0;34m)\u001b[0m\u001b[0;34m\u001b[0m\u001b[0;34m\u001b[0m\u001b[0m\n\u001b[0m\u001b[1;32m   4392\u001b[0m \u001b[0;34m\u001b[0m\u001b[0m\n\u001b[1;32m   4393\u001b[0m         \u001b[0;32mif\u001b[0m \u001b[0ms\u001b[0m \u001b[0;32mis\u001b[0m \u001b[0;32mNone\u001b[0m\u001b[0;34m:\u001b[0m\u001b[0;34m\u001b[0m\u001b[0;34m\u001b[0m\u001b[0m\n",
            "\u001b[0;31mValueError\u001b[0m: x and y must be the same size"
          ]
        },
        {
          "output_type": "display_data",
          "data": {
            "image/png": "[encoded data removed]",
            "text/plain": [
              "<Figure size 432x288 with 1 Axes>"
            ]
          },
          "metadata": {
            "needs_background": "light"
          }
        }
      ],
      "source": [
        "# # y= epoch?\n",
        "# plt.scatter(history.history['acc'], y, label='acc')\n",
        "# plt.scatter(history.history['acc'], y, label='Val_acc')\n",
        "# plt.legend()\n",
        "# plt.show()"
      ]
    },
    {
      "cell_type": "code",
      "source": [
        "import matplotlib.pyplot as plt\n",
        "\n",
        "acc = history.history['acc']\n",
        "val_acc = history.history['val_acc']\n",
        "\n",
        "epochs = range(len(acc))\n",
        "\n",
        "#誤差率をプロット\n",
        "plt.plot(epochs,acc,'bo',label='acc')\n",
        "plt.plot(epochs,val_acc,'go',label='Val_acc')\n",
        "plt.legend()\n",
        "plt.show()"
      ],
      "metadata": {
        "id": "LheHcR7sxfkQ",
        "outputId": "dd5b4e98-51a2-4618-fa4f-765038a0b16b",
        "colab": {
          "base_uri": "https://localhost:8080/",
          "height": 264
        }
      },
      "execution_count": 99,
      "outputs": [
        {
          "output_type": "display_data",
          "data": {
            "image/png": "[encoded data removed]",
            "text/plain": [
              "<Figure size 432x288 with 1 Axes>"
            ]
          },
          "metadata": {
            "needs_background": "light"
          }
        }
      ]
    },
    {
      "cell_type": "markdown",
      "metadata": {
        "id": "-vfAUqNynFRJ"
      },
      "source": [
        "#### 5.13 学習データ・検証データに対して約80％以上の正解率があるようです。「5.12」で作成したモデルで（X_train[1]）に対して予測結果を出力してみましょう。"
      ]
    },
    {
      "cell_type": "code",
      "execution_count": 100,
      "metadata": {
        "colab": {
          "base_uri": "https://localhost:8080/"
        },
        "id": "xbpsgtEHnFRJ",
        "outputId": "d79e27da-9566-4de9-c360-51e1937f20d3"
      },
      "outputs": [
        {
          "output_type": "execute_result",
          "data": {
            "text/plain": [
              "array([0.0276334], dtype=float32)"
            ]
          },
          "metadata": {},
          "execution_count": 100
        }
      ],
      "source": [
        "# model.predict(X_train[1])\n",
        "model.predict(X_train)[1]"
      ]
    },
    {
      "cell_type": "markdown",
      "metadata": {
        "id": "db1oRzxQnFRJ"
      },
      "source": [
        "#### 5.14 悪いレビューである可能性が高そうです。事前準備「5.0」を利用してレビュー内容を確認してみましょう。"
      ]
    },
    {
      "cell_type": "code",
      "execution_count": 101,
      "metadata": {
        "colab": {
          "base_uri": "https://localhost:8080/",
          "height": 185
        },
        "id": "c3RNNCD3nFRJ",
        "outputId": "97aace33-4594-4745-af40-562083aeef62"
      },
      "outputs": [
        {
          "output_type": "execute_result",
          "data": {
            "application/vnd.google.colaboratory.intrinsic+json": {
              "type": "string"
            },
            "text/plain": [
              "\"? ? ? ? ? ? ? ? ? ? ? ? ? ? ? ? ? ? ? ? ? ? ? ? ? ? ? ? ? ? ? ? ? ? ? ? ? ? ? ? ? ? ? ? ? ? ? ? ? ? ? ? ? ? ? ? ? ? ? ? ? ? ? ? ? ? ? ? ? ? ? ? ? ? ? ? ? ? ? ? ? ? ? ? ? ? ? ? ? ? ? ? ? ? ? ? ? ? ? ? ? ? ? ? ? ? ? ? ? ? ? ? ? ? ? ? ? ? ? ? ? ? ? ? ? ? ? ? ? ? ? ? ? ? ? ? ? ? ? ? ? ? ? ? ? ? ? ? ? ? ? ? ? ? ? ? ? ? ? ? ? ? ? ? ? ? ? ? ? ? ? ? ? ? ? ? ? ? ? ? ? ? ? ? ? ? ? ? ? ? ? ? ? ? ? ? ? ? ? ? ? ? ? ? ? ? ? ? ? ? ? ? ? ? ? ? ? ? ? ? ? ? ? ? ? ? ? ? ? ? ? ? ? ? ? ? ? ? ? ? ? ? ? ? ? ? ? ? ? ? ? ? ? ? ? ? ? ? ? ? ? ? ? ? ? ? ? ? ? ? ? ? ? ? ? ? ? ? ? ? ? ? ? ? ? ? ? ? ? ? ? ? ? ? ? ? ? ? ? ? ? ? ? ? ? ? ? ? ? ? ? ? big hair big boobs bad music and a giant safety pin these are the words to best describe this terrible movie i love cheesy horror movies and i've seen hundreds but this had got to be on of the worst ever made the plot is paper thin and ridiculous the acting is an abomination the script is completely laughable the best is the end showdown with the cop and how he worked out who the killer is it's just so damn terribly written the clothes are sickening and funny in equal ? the hair is big lots of boobs ? men wear those cut ? shirts that show off their ? sickening that men actually wore them and the music is just ? trash that plays over and over again in almost every scene there is trashy music boobs and ? taking away bodies and the gym still doesn't close for ? all joking aside this is a truly bad film whose only charm is to look back on the disaster that was the 80's and have a good old laugh at how bad everything was back then\""
            ]
          },
          "metadata": {},
          "execution_count": 101
        }
      ],
      "source": [
        "decode_review(1)"
      ]
    },
    {
      "cell_type": "markdown",
      "metadata": {
        "id": "IJm7c98vnFRJ"
      },
      "source": [
        "#### 5.15 実際の正解データを確認していきましょう。y_train[1]のラベルを確認して下さい。"
      ]
    },
    {
      "cell_type": "code",
      "execution_count": 102,
      "metadata": {
        "colab": {
          "base_uri": "https://localhost:8080/"
        },
        "id": "vn8HcT_onFRJ",
        "outputId": "d08f449a-8611-4f30-9ec7-9869962a0021"
      },
      "outputs": [
        {
          "output_type": "stream",
          "name": "stdout",
          "text": [
            "y_train[1]: 0\n"
          ]
        }
      ],
      "source": [
        "print('y_train[1]:',y_train[1])"
      ]
    }
  ],
  "metadata": {
    "kernelspec": {
      "display_name": "Python 3",
      "language": "python",
      "name": "python3"
    },
    "language_info": {
      "codemirror_mode": {
        "name": "ipython",
        "version": 3
      },
      "file_extension": ".py",
      "mimetype": "text/x-python",
      "name": "python",
      "nbconvert_exporter": "python",
      "pygments_lexer": "ipython3",
      "version": "3.8.3"
    },
    "colab": {
      "name": "neural_network_editor.ipynb",
      "provenance": [],
      "include_colab_link": true
    }
  },
  "nbformat": 4,
  "nbformat_minor": 0
}