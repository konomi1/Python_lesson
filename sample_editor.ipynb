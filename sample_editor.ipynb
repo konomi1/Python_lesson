{
  "nbformat": 4,
  "nbformat_minor": 0,
  "metadata": {
    "kernelspec": {
      "display_name": "Python 3",
      "language": "python",
      "name": "python3"
    },
    "language_info": {
      "codemirror_mode": {
        "name": "ipython",
        "version": 3
      },
      "file_extension": ".py",
      "mimetype": "text/x-python",
      "name": "python",
      "nbconvert_exporter": "python",
      "pygments_lexer": "ipython3",
      "version": "3.7.0"
    },
    "toc": {
      "base_numbering": 1,
      "nav_menu": {},
      "number_sections": true,
      "sideBar": true,
      "skip_h1_title": false,
      "title_cell": "Table of Contents",
      "title_sidebar": "Contents",
      "toc_cell": false,
      "toc_position": {},
      "toc_section_display": true,
      "toc_window_display": false
    },
    "varInspector": {
      "cols": {
        "lenName": 16,
        "lenType": 16,
        "lenVar": 40
      },
      "kernels_config": {
        "python": {
          "delete_cmd_postfix": "",
          "delete_cmd_prefix": "del ",
          "library": "var_list.py",
          "varRefreshCmd": "print(var_dic_list())"
        },
        "r": {
          "delete_cmd_postfix": ") ",
          "delete_cmd_prefix": "rm(",
          "library": "var_list.r",
          "varRefreshCmd": "cat(var_dic_list()) "
        }
      },
      "types_to_exclude": [
        "module",
        "function",
        "builtin_function_or_method",
        "instance",
        "_Feature"
      ],
      "window_display": false
    },
    "colab": {
      "name": "sample_editor.ipynb",
      "provenance": [],
      "include_colab_link": true
    }
  },
  "cells": [
    {
      "cell_type": "markdown",
      "metadata": {
        "id": "view-in-github",
        "colab_type": "text"
      },
      "source": [
        "<a href=\"https://colab.research.google.com/github/konomi1/Python_lesson/blob/main/sample_editor.ipynb\" target=\"_parent\"><img src=\"https://colab.research.google.com/assets/colab-badge.svg\" alt=\"Open In Colab\"/></a>"
      ]
    },
    {
      "cell_type": "markdown",
      "metadata": {
        "id": "Tza3499Jdw1t"
      },
      "source": [
        "# sample exercises\n",
        "\n",
        "1. 課題の取り組み方について学習します。"
      ]
    },
    {
      "cell_type": "markdown",
      "metadata": {
        "id": "GOcypTS5dw1x"
      },
      "source": [
        "### 1. 課題の取り組み方について学習します。"
      ]
    },
    {
      "cell_type": "markdown",
      "metadata": {
        "id": "TPm4vzJsdw1y"
      },
      "source": [
        "#### 1.1 「変数num1を定義して、num1に8を代入して、表示してください。」"
      ]
    },
    {
      "cell_type": "code",
      "metadata": {
        "colab": {
          "base_uri": "https://localhost:8080/"
        },
        "id": "dN5IlzMadw1z",
        "outputId": "ec321e51-f1ca-4b90-fc42-7ce9a67ee10c"
      },
      "source": [
        "num1 = 8\n",
        "print(num1)"
      ],
      "execution_count": null,
      "outputs": [
        {
          "output_type": "stream",
          "name": "stdout",
          "text": [
            "8\n"
          ]
        }
      ]
    },
    {
      "cell_type": "markdown",
      "metadata": {
        "id": "UOsBX9Zidw10"
      },
      "source": [
        "#### 1.2 「変数num2を定義して、num2に4を代入して、表示してください。」"
      ]
    },
    {
      "cell_type": "code",
      "metadata": {
        "colab": {
          "base_uri": "https://localhost:8080/"
        },
        "id": "CAJXfTmUdw10",
        "outputId": "7dfcd748-fdfe-4adf-f554-ba551cd93d89"
      },
      "source": [
        "num2 = 4\n",
        "print(num2)"
      ],
      "execution_count": null,
      "outputs": [
        {
          "output_type": "stream",
          "name": "stdout",
          "text": [
            "4\n"
          ]
        }
      ]
    },
    {
      "cell_type": "markdown",
      "metadata": {
        "id": "gRFu5Iv4dw11"
      },
      "source": [
        "#### 1.3 「変数num1とnum2の和を求めてください。」"
      ]
    },
    {
      "cell_type": "code",
      "metadata": {
        "colab": {
          "base_uri": "https://localhost:8080/"
        },
        "id": "vXHa_DQldw12",
        "outputId": "d0da487f-98d0-4383-dbe1-a395c4a7c732"
      },
      "source": [
        "num1 + num2"
      ],
      "execution_count": null,
      "outputs": [
        {
          "output_type": "stream",
          "name": "stdout",
          "text": [
            "12\n"
          ]
        }
      ]
    },
    {
      "cell_type": "markdown",
      "metadata": {
        "id": "V4uWly3Ldw12"
      },
      "source": [
        "#### 1.4 「変数num1とnum2の差を求めてください。」"
      ]
    },
    {
      "cell_type": "code",
      "metadata": {
        "colab": {
          "base_uri": "https://localhost:8080/"
        },
        "id": "0lbrz340dw13",
        "outputId": "704911b4-21c0-45df-a9f4-0fb71d15477e"
      },
      "source": [
        "num1 - num2"
      ],
      "execution_count": null,
      "outputs": [
        {
          "output_type": "stream",
          "name": "stdout",
          "text": [
            "4\n"
          ]
        }
      ]
    },
    {
      "cell_type": "markdown",
      "metadata": {
        "id": "GK8vvQDOdw13"
      },
      "source": [
        "#### 1.5 「変数num1とnum2の積を求めてください。」"
      ]
    },
    {
      "cell_type": "code",
      "metadata": {
        "colab": {
          "base_uri": "https://localhost:8080/"
        },
        "id": "pL3Ma-f4dw14",
        "outputId": "44bfc107-b564-4295-c64d-8f455d5328ec"
      },
      "source": [
        "num1 * num2"
      ],
      "execution_count": null,
      "outputs": [
        {
          "output_type": "stream",
          "name": "stdout",
          "text": [
            "32\n"
          ]
        }
      ]
    },
    {
      "cell_type": "markdown",
      "metadata": {
        "id": "54BmDKghdw14"
      },
      "source": [
        "#### 1.6 「変数num1とnum2の商を求めてください。」"
      ]
    },
    {
      "cell_type": "code",
      "metadata": {
        "colab": {
          "base_uri": "https://localhost:8080/"
        },
        "id": "zPVM07E3dw15",
        "outputId": "9f85f423-7fba-4b71-f815-4059bf90d3bf"
      },
      "source": [
        "num1 / num2"
      ],
      "execution_count": null,
      "outputs": [
        {
          "output_type": "stream",
          "name": "stdout",
          "text": [
            "2.0\n"
          ]
        }
      ]
    }
  ]
}